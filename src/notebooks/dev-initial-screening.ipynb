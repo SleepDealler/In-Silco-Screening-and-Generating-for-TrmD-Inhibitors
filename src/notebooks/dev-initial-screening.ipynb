{
 "cells": [
  {
   "cell_type": "code",
   "execution_count": 5,
   "metadata": {},
   "outputs": [
    {
     "data": {
      "text/plain": [
       "['main.py', 'database', 'utils', 'screening', '__init__.py', 'notebooks']"
      ]
     },
     "execution_count": 5,
     "metadata": {},
     "output_type": "execute_result"
    }
   ],
   "source": [
    "import os\n",
    "\n",
    "if \"main.py\" not in os.listdir():\n",
    "    os.chdir(\"../../src\")\n",
    "\n",
    "os.listdir()"
   ]
  },
  {
   "cell_type": "code",
   "execution_count": 6,
   "metadata": {},
   "outputs": [],
   "source": [
    "from utils.paths import CHEMBL_34_SDF_PATH"
   ]
  },
  {
   "cell_type": "code",
   "execution_count": 7,
   "metadata": {},
   "outputs": [],
   "source": [
    "from rdkit import Chem"
   ]
  },
  {
   "cell_type": "code",
   "execution_count": 16,
   "metadata": {},
   "outputs": [],
   "source": [
    "suppl = Chem.SDMolSupplier(CHEMBL_34_SDF_PATH)"
   ]
  },
  {
   "cell_type": "code",
   "execution_count": 17,
   "metadata": {},
   "outputs": [
    {
     "data": {
      "text/plain": [
       "2409270"
      ]
     },
     "execution_count": 17,
     "metadata": {},
     "output_type": "execute_result"
    }
   ],
   "source": [
    "len(suppl)"
   ]
  },
  {
   "cell_type": "code",
   "execution_count": 20,
   "metadata": {},
   "outputs": [
    {
     "name": "stderr",
     "output_type": "stream",
     "text": [
      "[19:23:54] Both bonds on one end of an atropisomer are on the same side - atoms is : 6\n",
      "[19:23:59] Explicit valence for atom # 0 P, 7, is greater than permitted\n",
      "[19:23:59] ERROR: Could not sanitize molecule ending on line 2986099\n",
      "[19:23:59] ERROR: Explicit valence for atom # 0 P, 7, is greater than permitted\n"
     ]
    },
    {
     "name": "stdout",
     "output_type": "stream",
     "text": [
      "Mol is None\n"
     ]
    },
    {
     "name": "stderr",
     "output_type": "stream",
     "text": [
      "[19:24:03] Explicit valence for atom # 1 P, 7, is greater than permitted\n",
      "[19:24:03] ERROR: Could not sanitize molecule ending on line 3747881\n",
      "[19:24:03] ERROR: Explicit valence for atom # 1 P, 7, is greater than permitted\n"
     ]
    },
    {
     "name": "stdout",
     "output_type": "stream",
     "text": [
      "Mol is None\n"
     ]
    },
    {
     "name": "stderr",
     "output_type": "stream",
     "text": [
      "[19:24:03] Explicit valence for atom # 1 P, 7, is greater than permitted\n",
      "[19:24:03] ERROR: Could not sanitize molecule ending on line 3913285\n",
      "[19:24:03] ERROR: Explicit valence for atom # 1 P, 7, is greater than permitted\n"
     ]
    },
    {
     "name": "stdout",
     "output_type": "stream",
     "text": [
      "Mol is None\n"
     ]
    },
    {
     "name": "stderr",
     "output_type": "stream",
     "text": [
      "[19:24:06] Warning: ambiguous stereochemistry - opposing bonds have opposite wedging - at atom 10 ignored.\n",
      "[19:24:06] Warning: ambiguous stereochemistry - opposing bonds have opposite wedging - at atom 10 ignored.\n",
      "[19:24:27] Warning: conflicting stereochemistry - bond wedging contradiction - at atom 48 ignored\n",
      "[19:24:27] Warning: conflicting stereochemistry - bond wedging contradiction - at atom 48 ignored\n",
      "[19:24:57] Both bonds on one end of an atropisomer are on the same side - atoms is : 7\n",
      "[19:24:59] Both bonds on one end of an atropisomer are on the same side - atoms is : 3\n",
      "[19:25:39] Warning: ambiguous stereochemistry - opposing bonds have opposite wedging - at atom 0 ignored.\n",
      "[19:25:39] Warning: ambiguous stereochemistry - opposing bonds have opposite wedging - at atom 0 ignored.\n",
      "[19:26:28] Warning: ambiguous stereochemistry - opposing bonds have opposite wedging - at atom 4 ignored.\n",
      "[19:26:28] Warning: ambiguous stereochemistry - opposing bonds have opposite wedging - at atom 4 ignored.\n",
      "[19:28:14] WARNING: not removing hydrogen atom without neighbors\n",
      "[19:28:33] Warning: ambiguous stereochemistry - zero final chiral volume - at atom 6 ignored\n",
      "[19:28:36] Warning: ambiguous stereochemistry - zero final chiral volume - at atom 7 ignored\n",
      "[19:28:36] Warning: ambiguous stereochemistry - zero final chiral volume - at atom 13 ignored\n",
      "[19:28:37] Warning: ambiguous stereochemistry - zero final chiral volume - at atom 9 ignored\n",
      "[19:28:41] Warning: ambiguous stereochemistry - zero final chiral volume - at atom 6 ignored\n",
      "[19:28:43] Warning: ambiguous stereochemistry - zero final chiral volume - at atom 7 ignored\n",
      "[19:28:47] Warning: ambiguous stereochemistry - zero final chiral volume - at atom 5 ignored\n",
      "[19:28:47] Warning: ambiguous stereochemistry - zero final chiral volume - at atom 6 ignored\n",
      "[19:28:48] Warning: ambiguous stereochemistry - zero final chiral volume - at atom 5 ignored\n",
      "[19:28:48] Warning: ambiguous stereochemistry - zero final chiral volume - at atom 6 ignored\n",
      "[19:28:51] Warning: ambiguous stereochemistry - zero final chiral volume - at atom 278 ignored\n",
      "[19:29:23] Warning: ambiguous stereochemistry - opposing bonds have opposite wedging - at atom 0 ignored.\n",
      "[19:29:23] Warning: ambiguous stereochemistry - opposing bonds have opposite wedging - at atom 0 ignored.\n",
      "[19:29:30] Explicit valence for atom # 0 P, 7, is greater than permitted\n",
      "[19:29:30] ERROR: Could not sanitize molecule ending on line 71637038\n",
      "[19:29:30] ERROR: Explicit valence for atom # 0 P, 7, is greater than permitted\n",
      "[19:29:30] Explicit valence for atom # 0 P, 7, is greater than permitted\n",
      "[19:29:30] ERROR: Could not sanitize molecule ending on line 71650517\n",
      "[19:29:30] ERROR: Explicit valence for atom # 0 P, 7, is greater than permitted\n"
     ]
    },
    {
     "name": "stdout",
     "output_type": "stream",
     "text": [
      "Mol is None\n",
      "Mol is None\n"
     ]
    },
    {
     "name": "stderr",
     "output_type": "stream",
     "text": [
      "[19:29:31] Explicit valence for atom # 0 P, 7, is greater than permitted\n",
      "[19:29:31] ERROR: Could not sanitize molecule ending on line 71809996\n",
      "[19:29:31] ERROR: Explicit valence for atom # 0 P, 7, is greater than permitted\n"
     ]
    },
    {
     "name": "stdout",
     "output_type": "stream",
     "text": [
      "Mol is None\n"
     ]
    },
    {
     "name": "stderr",
     "output_type": "stream",
     "text": [
      "[19:29:35] Explicit valence for atom # 0 P, 7, is greater than permitted\n",
      "[19:29:35] ERROR: Could not sanitize molecule ending on line 72646321\n",
      "[19:29:35] ERROR: Explicit valence for atom # 0 P, 7, is greater than permitted\n"
     ]
    },
    {
     "name": "stdout",
     "output_type": "stream",
     "text": [
      "Mol is None\n"
     ]
    },
    {
     "name": "stderr",
     "output_type": "stream",
     "text": [
      "[19:29:40] Warning: ambiguous stereochemistry - zero final chiral volume - at atom 5 ignored\n",
      "[19:29:40] Warning: ambiguous stereochemistry - zero final chiral volume - at atom 6 ignored\n",
      "[19:29:41] Warning: ambiguous stereochemistry - zero final chiral volume - at atom 6 ignored\n",
      "[19:29:46] Warning: ambiguous stereochemistry - zero final chiral volume - at atom 10 ignored\n",
      "[19:29:46] Warning: ambiguous stereochemistry - zero final chiral volume - at atom 13 ignored\n",
      "[19:29:48] Warning: ambiguous stereochemistry - zero final chiral volume - at atom 4 ignored\n",
      "[19:29:51] WARNING: not removing hydrogen atom without neighbors\n",
      "[19:29:51] WARNING: not removing hydrogen atom without neighbors\n",
      "[19:29:54] Warning: ambiguous stereochemistry - zero final chiral volume - at atom 6 ignored\n",
      "[19:29:55] Warning: ambiguous stereochemistry - zero final chiral volume - at atom 10 ignored\n",
      "[19:29:56] Warning: ambiguous stereochemistry - zero final chiral volume - at atom 22 ignored\n",
      "[19:29:56] Warning: ambiguous stereochemistry - zero final chiral volume - at atom 6 ignored\n",
      "[19:29:59] Warning: ambiguous stereochemistry - zero final chiral volume - at atom 14 ignored\n",
      "[19:29:59] Warning: ambiguous stereochemistry - zero final chiral volume - at atom 5 ignored\n",
      "[19:30:00] Warning: ambiguous stereochemistry - zero final chiral volume - at atom 5 ignored\n",
      "[19:30:00] Warning: ambiguous stereochemistry - zero final chiral volume - at atom 5 ignored\n",
      "[19:30:00] Warning: ambiguous stereochemistry - zero final chiral volume - at atom 6 ignored\n",
      "[19:30:03] Warning: ambiguous stereochemistry - zero final chiral volume - at atom 1 ignored\n",
      "[19:30:03] Warning: ambiguous stereochemistry - zero final chiral volume - at atom 5 ignored\n",
      "[19:30:03] Warning: ambiguous stereochemistry - zero final chiral volume - at atom 6 ignored\n",
      "[19:30:04] Warning: ambiguous stereochemistry - zero final chiral volume - at atom 7 ignored\n",
      "[19:30:04] Warning: ambiguous stereochemistry - zero final chiral volume - at atom 13 ignored\n",
      "[19:30:07] Warning: ambiguous stereochemistry - zero final chiral volume - at atom 6 ignored\n",
      "[19:30:09] Warning: ambiguous stereochemistry - zero final chiral volume - at atom 14 ignored\n",
      "[19:30:09] Warning: ambiguous stereochemistry - zero final chiral volume - at atom 9 ignored\n",
      "[19:30:09] Warning: ambiguous stereochemistry - zero final chiral volume - at atom 7 ignored\n",
      "[19:30:09] Warning: ambiguous stereochemistry - zero final chiral volume - at atom 14 ignored\n",
      "[19:30:09] Warning: ambiguous stereochemistry - zero final chiral volume - at atom 18 ignored\n",
      "[19:30:11] Warning: ambiguous stereochemistry - zero final chiral volume - at atom 7 ignored\n",
      "[19:30:13] Warning: ambiguous stereochemistry - zero final chiral volume - at atom 5 ignored\n",
      "[19:30:15] Warning: ambiguous stereochemistry - zero final chiral volume - at atom 6 ignored\n",
      "[19:30:17] Warning: ambiguous stereochemistry - zero final chiral volume - at atom 5 ignored\n",
      "[19:30:17] Warning: ambiguous stereochemistry - zero final chiral volume - at atom 10 ignored\n",
      "[19:30:17] Warning: ambiguous stereochemistry - zero final chiral volume - at atom 5 ignored\n",
      "[19:30:17] Warning: ambiguous stereochemistry - zero final chiral volume - at atom 6 ignored\n",
      "[19:30:18] Warning: ambiguous stereochemistry - zero final chiral volume - at atom 6 ignored\n",
      "[19:30:19] Warning: ambiguous stereochemistry - zero final chiral volume - at atom 5 ignored\n",
      "[19:30:20] Warning: ambiguous stereochemistry - zero final chiral volume - at atom 5 ignored\n",
      "[19:30:20] Warning: ambiguous stereochemistry - zero final chiral volume - at atom 14 ignored\n",
      "[19:30:21] Warning: ambiguous stereochemistry - zero final chiral volume - at atom 6 ignored\n",
      "[19:30:22] Warning: ambiguous stereochemistry - zero final chiral volume - at atom 7 ignored\n",
      "[19:30:23] Warning: ambiguous stereochemistry - zero final chiral volume - at atom 9 ignored\n",
      "[19:30:23] Warning: ambiguous stereochemistry - zero final chiral volume - at atom 15 ignored\n",
      "[19:30:25] Warning: ambiguous stereochemistry - zero final chiral volume - at atom 16 ignored\n",
      "[19:30:25] Warning: ambiguous stereochemistry - zero final chiral volume - at atom 22 ignored\n",
      "[19:30:28] Warning: ambiguous stereochemistry - zero final chiral volume - at atom 5 ignored\n",
      "[19:30:30] Warning: ambiguous stereochemistry - zero final chiral volume - at atom 8 ignored\n",
      "[19:30:31] Warning: ambiguous stereochemistry - zero final chiral volume - at atom 5 ignored\n",
      "[19:30:32] Warning: ambiguous stereochemistry - zero final chiral volume - at atom 14 ignored\n",
      "[19:30:33] Warning: ambiguous stereochemistry - zero final chiral volume - at atom 10 ignored\n",
      "[19:30:33] Warning: ambiguous stereochemistry - zero final chiral volume - at atom 12 ignored\n",
      "[19:30:36] Warning: ambiguous stereochemistry - zero final chiral volume - at atom 5 ignored\n",
      "[19:30:36] Warning: ambiguous stereochemistry - zero final chiral volume - at atom 5 ignored\n",
      "[19:30:36] Warning: ambiguous stereochemistry - zero final chiral volume - at atom 6 ignored\n",
      "[19:30:36] Warning: ambiguous stereochemistry - zero final chiral volume - at atom 15 ignored\n",
      "[19:30:39] Warning: ambiguous stereochemistry - zero final chiral volume - at atom 17 ignored\n",
      "[19:30:41] Warning: ambiguous stereochemistry - zero final chiral volume - at atom 6 ignored\n",
      "[19:30:43] Warning: ambiguous stereochemistry - zero final chiral volume - at atom 7 ignored\n",
      "[19:30:44] Warning: ambiguous stereochemistry - zero final chiral volume - at atom 5 ignored\n",
      "[19:30:44] Warning: ambiguous stereochemistry - zero final chiral volume - at atom 11 ignored\n",
      "[19:30:44] Warning: ambiguous stereochemistry - zero final chiral volume - at atom 16 ignored\n",
      "[19:30:44] Warning: ambiguous stereochemistry - zero final chiral volume - at atom 6 ignored\n",
      "[19:30:48] Warning: ambiguous stereochemistry - zero final chiral volume - at atom 11 ignored\n",
      "[19:30:51] Explicit valence for atom # 0 P, 7, is greater than permitted\n",
      "[19:30:51] ERROR: Could not sanitize molecule ending on line 88499242\n",
      "[19:30:51] ERROR: Explicit valence for atom # 0 P, 7, is greater than permitted\n"
     ]
    },
    {
     "name": "stdout",
     "output_type": "stream",
     "text": [
      "Mol is None\n"
     ]
    },
    {
     "name": "stderr",
     "output_type": "stream",
     "text": [
      "[19:30:52] Explicit valence for atom # 0 P, 7, is greater than permitted\n",
      "[19:30:52] ERROR: Could not sanitize molecule ending on line 88564642\n",
      "[19:30:52] ERROR: Explicit valence for atom # 0 P, 7, is greater than permitted\n"
     ]
    },
    {
     "name": "stdout",
     "output_type": "stream",
     "text": [
      "Mol is None\n"
     ]
    },
    {
     "name": "stderr",
     "output_type": "stream",
     "text": [
      "[19:30:54] Explicit valence for atom # 0 P, 7, is greater than permitted\n",
      "[19:30:54] ERROR: Could not sanitize molecule ending on line 89026798\n",
      "[19:30:54] ERROR: Explicit valence for atom # 0 P, 7, is greater than permitted\n"
     ]
    },
    {
     "name": "stdout",
     "output_type": "stream",
     "text": [
      "Mol is None\n"
     ]
    },
    {
     "name": "stderr",
     "output_type": "stream",
     "text": [
      "[19:31:38] Warning: ambiguous stereochemistry - zero final chiral volume - at atom 25 ignored\n",
      "[19:32:38] Warning: ambiguous stereochemistry - zero final chiral volume - at atom 48 ignored\n"
     ]
    },
    {
     "ename": "KeyboardInterrupt",
     "evalue": "",
     "output_type": "error",
     "traceback": [
      "\u001b[0;31m---------------------------------------------------------------------------\u001b[0m",
      "\u001b[0;31mKeyboardInterrupt\u001b[0m                         Traceback (most recent call last)",
      "Cell \u001b[0;32mIn[20], line 5\u001b[0m\n\u001b[1;32m      3\u001b[0m     \u001b[38;5;28mprint\u001b[39m(\u001b[38;5;124m\"\u001b[39m\u001b[38;5;124mMol is None\u001b[39m\u001b[38;5;124m\"\u001b[39m)\n\u001b[1;32m      4\u001b[0m \u001b[38;5;28;01melse\u001b[39;00m:\n\u001b[0;32m----> 5\u001b[0m     \u001b[43mmol\u001b[49m\u001b[38;5;241;43m.\u001b[39;49m\u001b[43mGetNumAtoms\u001b[49m\u001b[43m(\u001b[49m\u001b[43m)\u001b[49m\n",
      "\u001b[0;31mKeyboardInterrupt\u001b[0m: "
     ]
    }
   ],
   "source": [
    "for mol in suppl:\n",
    "    if mol is None:\n",
    "        print(\"Mol is None\")\n",
    "    else:\n",
    "        mol.GetNumAtoms()"
   ]
  },
  {
   "cell_type": "code",
   "execution_count": 18,
   "metadata": {},
   "outputs": [
    {
     "name": "stdout",
     "output_type": "stream",
     "text": [
      "CHEMBL153534\n",
      "Cc1cc(-c2csc(N=C(N)N)n2)cn1C\n",
      "16\n",
      "CHEMBL440060\n",
      "CC[C@H](C)[C@H](NC(=O)[C@H](CC(C)C)NC(=O)[C@@H](NC(=O)[C@@H](N)CCSC)[C@@H](C)O)C(=O)NCC(=O)N[C@@H](C)C(=O)N[C@@H](C)C(=O)N[C@@H](Cc1c[nH]cn1)C(=O)N[C@@H](CC(N)=O)C(=O)NCC(=O)N[C@@H](C)C(=O)N[C@@H](C)C(=O)N[C@@H](CCC(N)=O)C(=O)N[C@@H](CC(C)C)C(=O)N[C@@H](CC(C)C)C(=O)N[C@@H](CCCN=C(N)N)C(=O)N[C@@H](CCC(N)=O)C(=O)N[C@@H](CC(C)C)C(=O)N[C@@H](CCCN=C(N)N)C(=O)NCC(=O)N[C@@H](CCC(N)=O)C(=O)N[C@@H](CC(C)C)C(=O)NCC(=O)N1CCC[C@H]1C(=O)N1CCC[C@H]1C(=O)NCC(=O)N[C@@H](CO)C(=O)N[C@@H](CCCN=C(N)N)C(N)=O\n",
      "202\n",
      "CHEMBL440245\n",
      "CCCC[C@@H]1NC(=O)[C@@H](NC(=O)[C@H](CC(C)C)NC(=O)[C@@H](NC(=O)[C@H](CCC(=O)O)NC(=O)[C@H](CCCN=C(N)N)NC(=O)[C@H](CC(C)C)NC(=O)[C@H](CC(C)C)NC(=O)[C@H](Cc2c[nH]cn2)NC(=O)[C@H](N)Cc2ccccc2)C(C)C)CCC(=O)NCCCC[C@@H](C(=O)N[C@@H](CCC(N)=O)C(=O)N[C@@H](CC(C)C)C(=O)N[C@@H](C)C(=O)N[C@@H](CCC(N)=O)C(=O)N[C@@H](CCC(N)=O)C(=O)N[C@@H](C)C(=O)N[C@@H](Cc2c[nH]cn2)C(=O)N[C@@H](CO)C(=O)N[C@@H](CC(N)=O)C(=O)N[C@@H](CCCN=C(N)N)C(=O)N[C@@H](CCCCN)C(=O)N[C@@H](CC(C)C)C(=O)N[C@@H](CCCC)C(=O)N[C@@H](CCC(=O)O)C(=O)N[C@H](C(=O)N[C@H](C(=O)C(N)=O)[C@@H](C)CC)[C@@H](C)CC)NC(=O)[C@H](C)NC(=O)[C@H](CCCN=C(N)N)NC(=O)[C@H](C)NC1=O\n",
      "251\n",
      "CHEMBL440249\n",
      "CC(C)C[C@@H]1NC(=O)CNC(=O)[C@H](c2ccc(O)cc2)NC(=O)[C@@H]([C@@H](C)O)NC(=O)[C@H](c2ccc(O[C@H]3O[C@H](CO)[C@@H](O)[C@H](O)[C@@H]3O[C@H]3O[C@H](CO)[C@@H](O)[C@H](O)[C@@H]3O)cc2)NC(=O)[C@@H](CCCN)NC(=O)[C@H](Cc2ccccc2)NC(=O)[C@H]([C@@H](C)O)NC(=O)[C@@H](c2ccc(O)cc2)NC(=O)[C@H](c2ccc(O)cc2)NC(=O)[C@@H](C(C)C)NC(=O)[C@@H](CCCN)NC(=O)[C@@H](c2ccc(O)cc2)NC(=O)[C@@H](CNC(=O)[C@H](CC(N)=O)NC(=O)Cc2cccc3ccccc23)[C@@H](C(N)=O)OC(=O)[C@H](c2ccc(O)c(Cl)c2)NC(=O)[C@@H](C)NC1=O\n",
      "185\n",
      "CHEMBL405398\n",
      "Brc1cccc(Nc2ncnc3ccncc23)c1NCCN1CCOCC1\n",
      "27\n"
     ]
    }
   ],
   "source": [
    "for i, mol in zip(range(5), suppl):\n",
    "    print(mol.GetProp(\"chembl_id\"))\n",
    "    print(Chem.MolToSmiles(mol))\n",
    "    print(mol.GetNumAtoms())"
   ]
  },
  {
   "cell_type": "code",
   "execution_count": 7,
   "metadata": {},
   "outputs": [
    {
     "data": {
      "text/plain": [
       "['dev-initial-screening.ipynb']"
      ]
     },
     "execution_count": 7,
     "metadata": {},
     "output_type": "execute_result"
    }
   ],
   "source": [
    "import os\n",
    "\n",
    "os.listdir()"
   ]
  },
  {
   "cell_type": "code",
   "execution_count": 22,
   "metadata": {},
   "outputs": [
    {
     "data": {
      "image/png": "[encoded data removed]",
      "text/plain": [
       "<rdkit.Chem.rdchem.Mol at 0x7f62024f5b60>"
      ]
     },
     "execution_count": 22,
     "metadata": {},
     "output_type": "execute_result"
    }
   ],
   "source": [
    "m = Chem.MolFromSmiles(\"Cc1ccccc1\")\n",
    "m"
   ]
  },
  {
   "cell_type": "code",
   "execution_count": 23,
   "metadata": {},
   "outputs": [],
   "source": [
    "from rdkit.Chem import Descriptors\n",
    "\n",
    "vals = Descriptors.CalcMolDescriptors(m)"
   ]
  },
  {
   "cell_type": "code",
   "execution_count": 27,
   "metadata": {},
   "outputs": [
    {
     "data": {
      "text/plain": [
       "dict_keys(['MaxAbsEStateIndex', 'MaxEStateIndex', 'MinAbsEStateIndex', 'MinEStateIndex', 'qed', 'SPS', 'MolWt', 'HeavyAtomMolWt', 'ExactMolWt', 'NumValenceElectrons', 'NumRadicalElectrons', 'MaxPartialCharge', 'MinPartialCharge', 'MaxAbsPartialCharge', 'MinAbsPartialCharge', 'FpDensityMorgan1', 'FpDensityMorgan2', 'FpDensityMorgan3', 'BCUT2D_MWHI', 'BCUT2D_MWLOW', 'BCUT2D_CHGHI', 'BCUT2D_CHGLO', 'BCUT2D_LOGPHI', 'BCUT2D_LOGPLOW', 'BCUT2D_MRHI', 'BCUT2D_MRLOW', 'AvgIpc', 'BalabanJ', 'BertzCT', 'Chi0', 'Chi0n', 'Chi0v', 'Chi1', 'Chi1n', 'Chi1v', 'Chi2n', 'Chi2v', 'Chi3n', 'Chi3v', 'Chi4n', 'Chi4v', 'HallKierAlpha', 'Ipc', 'Kappa1', 'Kappa2', 'Kappa3', 'LabuteASA', 'PEOE_VSA1', 'PEOE_VSA10', 'PEOE_VSA11', 'PEOE_VSA12', 'PEOE_VSA13', 'PEOE_VSA14', 'PEOE_VSA2', 'PEOE_VSA3', 'PEOE_VSA4', 'PEOE_VSA5', 'PEOE_VSA6', 'PEOE_VSA7', 'PEOE_VSA8', 'PEOE_VSA9', 'SMR_VSA1', 'SMR_VSA10', 'SMR_VSA2', 'SMR_VSA3', 'SMR_VSA4', 'SMR_VSA5', 'SMR_VSA6', 'SMR_VSA7', 'SMR_VSA8', 'SMR_VSA9', 'SlogP_VSA1', 'SlogP_VSA10', 'SlogP_VSA11', 'SlogP_VSA12', 'SlogP_VSA2', 'SlogP_VSA3', 'SlogP_VSA4', 'SlogP_VSA5', 'SlogP_VSA6', 'SlogP_VSA7', 'SlogP_VSA8', 'SlogP_VSA9', 'TPSA', 'EState_VSA1', 'EState_VSA10', 'EState_VSA11', 'EState_VSA2', 'EState_VSA3', 'EState_VSA4', 'EState_VSA5', 'EState_VSA6', 'EState_VSA7', 'EState_VSA8', 'EState_VSA9', 'VSA_EState1', 'VSA_EState10', 'VSA_EState2', 'VSA_EState3', 'VSA_EState4', 'VSA_EState5', 'VSA_EState6', 'VSA_EState7', 'VSA_EState8', 'VSA_EState9', 'FractionCSP3', 'HeavyAtomCount', 'NHOHCount', 'NOCount', 'NumAliphaticCarbocycles', 'NumAliphaticHeterocycles', 'NumAliphaticRings', 'NumAromaticCarbocycles', 'NumAromaticHeterocycles', 'NumAromaticRings', 'NumHAcceptors', 'NumHDonors', 'NumHeteroatoms', 'NumRotatableBonds', 'NumSaturatedCarbocycles', 'NumSaturatedHeterocycles', 'NumSaturatedRings', 'RingCount', 'MolLogP', 'MolMR', 'fr_Al_COO', 'fr_Al_OH', 'fr_Al_OH_noTert', 'fr_ArN', 'fr_Ar_COO', 'fr_Ar_N', 'fr_Ar_NH', 'fr_Ar_OH', 'fr_COO', 'fr_COO2', 'fr_C_O', 'fr_C_O_noCOO', 'fr_C_S', 'fr_HOCCN', 'fr_Imine', 'fr_NH0', 'fr_NH1', 'fr_NH2', 'fr_N_O', 'fr_Ndealkylation1', 'fr_Ndealkylation2', 'fr_Nhpyrrole', 'fr_SH', 'fr_aldehyde', 'fr_alkyl_carbamate', 'fr_alkyl_halide', 'fr_allylic_oxid', 'fr_amide', 'fr_amidine', 'fr_aniline', 'fr_aryl_methyl', 'fr_azide', 'fr_azo', 'fr_barbitur', 'fr_benzene', 'fr_benzodiazepine', 'fr_bicyclic', 'fr_diazo', 'fr_dihydropyridine', 'fr_epoxide', 'fr_ester', 'fr_ether', 'fr_furan', 'fr_guanido', 'fr_halogen', 'fr_hdrzine', 'fr_hdrzone', 'fr_imidazole', 'fr_imide', 'fr_isocyan', 'fr_isothiocyan', 'fr_ketone', 'fr_ketone_Topliss', 'fr_lactam', 'fr_lactone', 'fr_methoxy', 'fr_morpholine', 'fr_nitrile', 'fr_nitro', 'fr_nitro_arom', 'fr_nitro_arom_nonortho', 'fr_nitroso', 'fr_oxazole', 'fr_oxime', 'fr_para_hydroxylation', 'fr_phenol', 'fr_phenol_noOrthoHbond', 'fr_phos_acid', 'fr_phos_ester', 'fr_piperdine', 'fr_piperzine', 'fr_priamide', 'fr_prisulfonamd', 'fr_pyridine', 'fr_quatN', 'fr_sulfide', 'fr_sulfonamd', 'fr_sulfone', 'fr_term_acetylene', 'fr_tetrazole', 'fr_thiazole', 'fr_thiocyan', 'fr_thiophene', 'fr_unbrch_alkane', 'fr_urea'])"
      ]
     },
     "execution_count": 27,
     "metadata": {},
     "output_type": "execute_result"
    }
   ],
   "source": [
    "vals.keys()"
   ]
  },
  {
   "cell_type": "code",
   "execution_count": 29,
   "metadata": {},
   "outputs": [
    {
     "data": {
      "image/png": "[encoded data removed]",
      "text/plain": [
       "<rdkit.Chem.rdchem.Mol at 0x7f62024f70d0>"
      ]
     },
     "execution_count": 29,
     "metadata": {},
     "output_type": "execute_result"
    }
   ],
   "source": [
    "m = Chem.MolFromSmiles(\n",
    "    \"FC1=CN=C(NC2=NC=C(C(N3CCN(C(C4CC4)=O)CC3)=O)C=C2)N=C1C5=CC=C6N=C(N(CC)CC)SC6=C5\"\n",
    ")\n",
    "m"
   ]
  },
  {
   "cell_type": "markdown",
   "metadata": {},
   "source": [
    "### Lipinski\n",
    "more https://sharifsuliman.medium.com/understanding-drug-likeness-filters-with-rdkit-and-exploring-the-withdrawn-database-ebd6b8b2921e"
   ]
  },
  {
   "cell_type": "code",
   "execution_count": 50,
   "metadata": {},
   "outputs": [
    {
     "data": {
      "text/plain": [
       "rdkit.Chem.rdchem.Mol"
      ]
     },
     "execution_count": 50,
     "metadata": {},
     "output_type": "execute_result"
    }
   ],
   "source": [
    "type(mol)"
   ]
  },
  {
   "cell_type": "code",
   "execution_count": null,
   "metadata": {},
   "outputs": [],
   "source": [
    "from rdkit.Chem import Descriptors\n",
    "\n",
    "MW = Descriptors.MolWt(mol)\n",
    "HBA = Descriptors.NOCount(mol)\n",
    "HBD = Descriptors.NHOHCount(mol)\n",
    "LogP = Descriptors.MolLogP(mol)\n",
    "conditions = [MW <= 500, HBA <= 10, HBD <= 5, LogP <= 5]\n",
    "pass_ro5 = conditions.count(True) >= 3\n",
    "print(pass_ro5)"
   ]
  },
  {
   "cell_type": "markdown",
   "metadata": {},
   "source": [
    "### QED"
   ]
  },
  {
   "cell_type": "code",
   "execution_count": 43,
   "metadata": {},
   "outputs": [
    {
     "name": "stdout",
     "output_type": "stream",
     "text": [
      "QED value for CCN(CC)c1nc2ccc(-c3nc(Nc4ccc(C(=O)N5CCN(C(=O)C6CC6)CC5)cn4)ncc3F)cc2s1: 0.32620430671593936\n"
     ]
    }
   ],
   "source": [
    "from rdkit import Chem\n",
    "from rdkit.Chem import QED\n",
    "\n",
    "\n",
    "# Calculate QED\n",
    "qed_value = QED.qed(mol)\n",
    "\n",
    "# Print the QED value\n",
    "print(f\"QED value for {Chem.MolToSmiles(mol)}: {qed_value}\")"
   ]
  },
  {
   "cell_type": "markdown",
   "metadata": {},
   "source": [
    "### QEPPI"
   ]
  },
  {
   "cell_type": "code",
   "execution_count": 45,
   "metadata": {},
   "outputs": [
    {
     "name": "stdout",
     "output_type": "stream",
     "text": [
      "Collecting QEPPI\n",
      "  Downloading QEPPI-0.1.11-py3-none-any.whl.metadata (4.8 kB)\n",
      "INFO: pip is looking at multiple versions of qeppi to determine which version is compatible with other requirements. This could take a while.\n",
      "  Downloading QEPPI-0.1.10-py3-none-any.whl.metadata (4.6 kB)\n",
      "  Downloading QEPPI-0.1.9-py3-none-any.whl.metadata (4.6 kB)\n",
      "  Downloading QEPPI-0.1.8-py3-none-any.whl.metadata (4.4 kB)\n",
      "  Downloading QEPPI-0.1.7-py3-none-any.whl.metadata (3.7 kB)\n",
      "\u001b[31mERROR: Cannot install qeppi==0.1.10, qeppi==0.1.11, qeppi==0.1.7, qeppi==0.1.8 and qeppi==0.1.9 because these package versions have conflicting dependencies.\u001b[0m\u001b[31m\n",
      "\u001b[0m\n",
      "The conflict is caused by:\n",
      "    qeppi 0.1.11 depends on rdkit-pypi>=2021.3.1.5\n",
      "    qeppi 0.1.10 depends on rdkit-pypi>=2021.3.1.5\n",
      "    qeppi 0.1.9 depends on rdkit-pypi>=2020.9.5.2\n",
      "    qeppi 0.1.8 depends on rdkit-pypi>=2020.9.5.2\n",
      "    qeppi 0.1.7 depends on rdkit-pypi>=2020.9.5.2\n",
      "\n",
      "To fix this you could try to:\n",
      "1. loosen the range of package versions you've specified\n",
      "2. remove package versions to allow pip to attempt to solve the dependency conflict\n",
      "\n",
      "\u001b[31mERROR: ResolutionImpossible: for help visit https://pip.pypa.io/en/latest/topics/dependency-resolution/#dealing-with-dependency-conflicts\u001b[0m\u001b[31m\n",
      "\u001b[0m"
     ]
    }
   ],
   "source": [
    "!pip install QEPPI"
   ]
  },
  {
   "cell_type": "code",
   "execution_count": 47,
   "metadata": {},
   "outputs": [
    {
     "ename": "ModuleNotFoundError",
     "evalue": "No module named 'QEPPI'",
     "output_type": "error",
     "traceback": [
      "\u001b[0;31m---------------------------------------------------------------------------\u001b[0m",
      "\u001b[0;31mModuleNotFoundError\u001b[0m                       Traceback (most recent call last)",
      "Cell \u001b[0;32mIn[47], line 1\u001b[0m\n\u001b[0;32m----> 1\u001b[0m \u001b[38;5;28;01mimport\u001b[39;00m \u001b[38;5;21;01mQEPPI\u001b[39;00m \u001b[38;5;28;01mas\u001b[39;00m \u001b[38;5;21;01mppi\u001b[39;00m\n\u001b[1;32m      2\u001b[0m \u001b[38;5;28;01mfrom\u001b[39;00m \u001b[38;5;21;01mrdkit\u001b[39;00m \u001b[38;5;28;01mimport\u001b[39;00m Chem\n\u001b[1;32m      3\u001b[0m \u001b[38;5;28;01mfrom\u001b[39;00m \u001b[38;5;21;01mrdkit\u001b[39;00m\u001b[38;5;21;01m.\u001b[39;00m\u001b[38;5;21;01mChem\u001b[39;00m \u001b[38;5;28;01mimport\u001b[39;00m SDMolSupplier\n",
      "\u001b[0;31mModuleNotFoundError\u001b[0m: No module named 'QEPPI'"
     ]
    }
   ],
   "source": [
    "import QEPPI as ppi\n",
    "from rdkit import Chem\n",
    "from rdkit.Chem import SDMolSupplier\n",
    "\n",
    "q = ppi.QEPPI_Calculator()\n",
    "q.read()\n",
    "\n",
    "# SMILES\n",
    "print(q.qeppi(mol))\n",
    "# 0.7862842663145835"
   ]
  },
  {
   "cell_type": "markdown",
   "metadata": {},
   "source": [
    "### TPSA"
   ]
  },
  {
   "cell_type": "code",
   "execution_count": 28,
   "metadata": {},
   "outputs": [
    {
     "data": {
      "text/plain": [
       "71.95"
      ]
     },
     "execution_count": 28,
     "metadata": {},
     "output_type": "execute_result"
    }
   ],
   "source": [
    "Descriptors.TPSA(mol)"
   ]
  },
  {
   "cell_type": "markdown",
   "metadata": {},
   "source": [
    "### SA_Score\n",
    "https://greglandrum.github.io/rdkit-blog/posts/2023-12-01-using_sascore_and_npscore.html"
   ]
  },
  {
   "cell_type": "code",
   "execution_count": 40,
   "metadata": {},
   "outputs": [
    {
     "data": {
      "image/png": "[encoded data removed]",
      "text/plain": [
       "<rdkit.Chem.rdchem.Mol at 0x7f620097a7a0>"
      ]
     },
     "execution_count": 40,
     "metadata": {},
     "output_type": "execute_result"
    }
   ],
   "source": [
    "mol = Chem.MolFromSmiles(\n",
    "    \"FC1=CN=C(NC2=NC=C(C(N3CCN(C(C4CC4)=O)CC3)=O)C=C2)N=C1C5=CC=C6N=C(N(CC)CC)SC6=C5\"\n",
    ")\n",
    "mol"
   ]
  },
  {
   "cell_type": "code",
   "execution_count": 41,
   "metadata": {},
   "outputs": [
    {
     "data": {
      "text/plain": [
       "2.8716389090191434"
      ]
     },
     "execution_count": 41,
     "metadata": {},
     "output_type": "execute_result"
    }
   ],
   "source": [
    "from rdkit import Chem\n",
    "from rdkit.Chem import RDConfig\n",
    "import os\n",
    "import sys\n",
    "\n",
    "sys.path.append(os.path.join(RDConfig.RDContribDir, \"SA_Score\"))\n",
    "# now you can import sascore!\n",
    "import sascorer\n",
    "\n",
    "s = sascorer.calculateScore(mol)\n",
    "s"
   ]
  },
  {
   "cell_type": "markdown",
   "metadata": {},
   "source": [
    "### NP_Score"
   ]
  },
  {
   "cell_type": "code",
   "execution_count": 42,
   "metadata": {},
   "outputs": [
    {
     "name": "stderr",
     "output_type": "stream",
     "text": [
      "reading NP model ...\n",
      "model in\n",
      "[19:47:54] DEPRECATION WARNING: please use MorganGenerator\n"
     ]
    },
    {
     "data": {
      "text/plain": [
       "-1.960519718438019"
      ]
     },
     "execution_count": 42,
     "metadata": {},
     "output_type": "execute_result"
    }
   ],
   "source": [
    "from rdkit import Chem\n",
    "from rdkit.Chem import RDConfig\n",
    "import os\n",
    "import sys\n",
    "\n",
    "sys.path.append(os.path.join(RDConfig.RDContribDir, \"NP_Score\"))\n",
    "# now you can import sascore!\n",
    "import npscorer\n",
    "\n",
    "fscore = npscorer.readNPModel()\n",
    "npscorer.scoreMol(mol, fscore)"
   ]
  },
  {
   "cell_type": "markdown",
   "metadata": {},
   "source": [
    "### Filtering unwanted structures"
   ]
  },
  {
   "attachments": {
    "image.png": {
     "image/png": "[encoded data removed]"
    }
   },
   "cell_type": "markdown",
   "metadata": {},
   "source": [
    "https://www.rdkit.org/docs/GettingStartedInPython.html\n",
    "\n",
    "![image.png](attachment:image.png)"
   ]
  },
  {
   "cell_type": "code",
   "execution_count": 48,
   "metadata": {},
   "outputs": [
    {
     "name": "stdout",
     "output_type": "stream",
     "text": [
      "PAINs:  True\n",
      "Brenk:  True\n",
      "NIH:  True\n"
     ]
    }
   ],
   "source": [
    "from rdkit import Chem\n",
    "from rdkit.Chem.FilterCatalog import FilterCatalog, FilterCatalogParams\n",
    "\n",
    "mol = Chem.MolFromSmiles(\n",
    "    \"CC1=C(C=C(C=C1)N2C(=O)C(=C(N2)C)N=NC3=CC=CC(=C3O)C4=CC(=CC=C4)C(=O)O)C\"\n",
    ")  # e.g. Eltrombopag\n",
    "\n",
    "# PAINS flag\n",
    "params_pains = FilterCatalogParams()\n",
    "params_pains.AddCatalog(FilterCatalogParams.FilterCatalogs.PAINS_A)\n",
    "True\n",
    "catalog_pains = FilterCatalog(params_pains)\n",
    "flag = catalog_pains.HasMatch(mol)  # Checks if there is a matching PAINS\n",
    "print(\"PAINs: \", flag)\n",
    "PAINs: True\n",
    "\n",
    "# Brenk Flag\n",
    "params_unwanted = FilterCatalogParams()\n",
    "params_unwanted.AddCatalog(FilterCatalogParams.FilterCatalogs.BRENK)\n",
    "True\n",
    "catalog_unwanted = FilterCatalog(params_unwanted)\n",
    "flag = catalog_unwanted.HasMatch(\n",
    "    mol\n",
    ")  # Checks if there is a matching unwanted substructure\n",
    "print(\"Brenk: \", flag)\n",
    "Brenk: True\n",
    "\n",
    "# NIH Flag\n",
    "params_nih = FilterCatalogParams()\n",
    "params_nih.AddCatalog(FilterCatalogParams.FilterCatalogs.NIH)\n",
    "True\n",
    "catalog_nih = FilterCatalog(params_nih)\n",
    "flag = catalog_nih.HasMatch(mol)  # Checks if there is a matching NIH\n",
    "print(\"NIH: \", flag)\n",
    "NIH: True"
   ]
  },
  {
   "cell_type": "code",
   "execution_count": 49,
   "metadata": {},
   "outputs": [
    {
     "name": "stdout",
     "output_type": "stream",
     "text": [
      "['PAINS_A', 'Brenk', 'NIH', 'ChEMBL23_Dundee', 'ChEMBL23_BMS', 'ChEMBL23_MLSMR', 'ChEMBL23_Inpharmatica', 'ChEMBL23_LINT']\n",
      "['azo_A(324)', 'diazo_group', 'azo_aryl', 'diazo group', 'azo_aryl', 'Azo', 'Filter5_azo', 'acyclic N-,=N and not N bound to carbonyl or sulfone']\n"
     ]
    },
    {
     "data": {
      "text/plain": [
       "['azo_A(324)',\n",
       " 'diazo_group',\n",
       " 'azo_aryl',\n",
       " 'diazo group',\n",
       " 'azo_aryl',\n",
       " 'Azo',\n",
       " 'Filter5_azo',\n",
       " 'acyclic N-,=N and not N bound to carbonyl or sulfone']"
      ]
     },
     "execution_count": 49,
     "metadata": {},
     "output_type": "execute_result"
    }
   ],
   "source": [
    "from rdkit import Chem\n",
    "from rdkit.Chem.FilterCatalog import FilterCatalog, FilterCatalogParams\n",
    "\n",
    "mol = Chem.MolFromSmiles(\n",
    "    \"CC1=C(C=C(C=C1)N2C(=O)C(=C(N2)C)N=NC3=CC=CC(=C3O)C4=CC(=CC=C4)C(=O)O)C\"\n",
    ")  # e.g. Eltrombopag\n",
    "\n",
    "# ALL Filters\n",
    "params_all = FilterCatalogParams()\n",
    "params_all.AddCatalog(FilterCatalogParams.FilterCatalogs.ALL)\n",
    "True\n",
    "catalog_all = FilterCatalog(params_all)\n",
    "\n",
    "print([entry.GetProp(\"FilterSet\") for entry in catalog_all.GetMatches(mol)])\n",
    "[\n",
    "    \"PAINS_A\",\n",
    "    \"Brenk\",\n",
    "    \"NIH\",\n",
    "    \"ChEMBL23_Dundee\",\n",
    "    \"ChEMBL23_BMS\",\n",
    "    \"ChEMBL23_MLSMR\",\n",
    "    \"ChEMBL23_Inpharmatica\",\n",
    "    \"ChEMBL23_LINT\",\n",
    "]\n",
    "print([entry.GetDescription() for entry in catalog_all.GetMatches(mol)])\n",
    "[\n",
    "    \"azo_A(324)\",\n",
    "    \"diazo_group\",\n",
    "    \"azo_aryl\",\n",
    "    \"diazo group\",\n",
    "    \"azo_aryl\",\n",
    "    \"Azo\",\n",
    "    \"Filter5_azo\",\n",
    "    \"acyclic N-,=N and not N bound to carbonyl or sulfone\",\n",
    "]"
   ]
  },
  {
   "cell_type": "markdown",
   "metadata": {},
   "source": [
    "---"
   ]
  },
  {
   "cell_type": "code",
   "execution_count": 53,
   "metadata": {},
   "outputs": [
    {
     "name": "stdout",
     "output_type": "stream",
     "text": [
      "Molecule Database Length: 2409270\n"
     ]
    },
    {
     "name": "stderr",
     "output_type": "stream",
     "text": [
      "  1%|          | 25385/2409270 [01:18<1:57:06, 339.29it/s][20:20:24] Both bonds on one end of an atropisomer are on the same side - atoms is : 6\n",
      "  2%|▏         | 41224/2409270 [02:02<1:48:18, 364.41it/s][20:21:09] Explicit valence for atom # 0 P, 7, is greater than permitted\n",
      "[20:21:09] ERROR: Could not sanitize molecule ending on line 2986099\n",
      "[20:21:09] ERROR: Explicit valence for atom # 0 P, 7, is greater than permitted\n",
      "  2%|▏         | 52542/2409270 [02:35<1:51:02, 353.74it/s][20:21:41] Explicit valence for atom # 1 P, 7, is greater than permitted\n",
      "[20:21:41] ERROR: Could not sanitize molecule ending on line 3747881\n",
      "[20:21:41] ERROR: Explicit valence for atom # 1 P, 7, is greater than permitted\n",
      "  2%|▏         | 54972/2409270 [02:42<2:15:05, 290.47it/s][20:21:48] Explicit valence for atom # 1 P, 7, is greater than permitted\n",
      "[20:21:48] ERROR: Could not sanitize molecule ending on line 3913285\n",
      "[20:21:48] ERROR: Explicit valence for atom # 1 P, 7, is greater than permitted\n",
      "  3%|▎         | 61988/2409270 [03:02<1:47:53, 362.59it/s][20:22:08] Warning: ambiguous stereochemistry - opposing bonds have opposite wedging - at atom 10 ignored.\n",
      "[20:22:08] Warning: ambiguous stereochemistry - opposing bonds have opposite wedging - at atom 10 ignored.\n",
      "  5%|▌         | 127902/2409270 [06:14<2:31:04, 251.67it/s][20:25:20] Warning: conflicting stereochemistry - bond wedging contradiction - at atom 48 ignored\n",
      "[20:25:20] Warning: conflicting stereochemistry - bond wedging contradiction - at atom 48 ignored\n",
      "  9%|▉         | 217616/2409270 [11:02<1:43:35, 352.63it/s][20:30:08] Both bonds on one end of an atropisomer are on the same side - atoms is : 7\n",
      "  9%|▉         | 224599/2409270 [11:23<1:50:51, 328.45it/s][20:30:29] Both bonds on one end of an atropisomer are on the same side - atoms is : 3\n",
      " 14%|█▎        | 331216/2409270 [17:10<3:06:33, 185.65it/s][20:36:16] Warning: ambiguous stereochemistry - opposing bonds have opposite wedging - at atom 0 ignored.\n",
      "[20:36:16] Warning: ambiguous stereochemistry - opposing bonds have opposite wedging - at atom 0 ignored.\n",
      " 19%|█▉        | 461973/2409270 [24:19<1:36:15, 337.16it/s][20:43:25] Warning: ambiguous stereochemistry - opposing bonds have opposite wedging - at atom 4 ignored.\n",
      "[20:43:25] Warning: ambiguous stereochemistry - opposing bonds have opposite wedging - at atom 4 ignored.\n",
      " 32%|███▏      | 763428/2409270 [38:33<1:12:21, 379.10it/s][20:57:39] WARNING: not removing hydrogen atom without neighbors\n",
      "[20:57:39] WARNING: not removing hydrogen atom without neighbors\n",
      " 34%|███▎      | 810614/2409270 [40:49<1:15:17, 353.86it/s][20:59:56] Warning: ambiguous stereochemistry - zero final chiral volume - at atom 6 ignored\n",
      " 34%|███▍      | 819956/2409270 [41:15<1:10:53, 373.62it/s][21:00:21] Warning: ambiguous stereochemistry - zero final chiral volume - at atom 7 ignored\n",
      "[21:00:21] Warning: ambiguous stereochemistry - zero final chiral volume - at atom 13 ignored\n",
      " 34%|███▍      | 824843/2409270 [41:27<1:13:07, 361.10it/s][21:00:33] Warning: ambiguous stereochemistry - zero final chiral volume - at atom 9 ignored\n",
      " 35%|███▍      | 837790/2409270 [42:01<1:08:06, 384.55it/s][21:01:07] Warning: ambiguous stereochemistry - zero final chiral volume - at atom 6 ignored\n",
      " 35%|███▌      | 843518/2409270 [42:16<1:06:47, 390.69it/s][21:01:22] Warning: ambiguous stereochemistry - zero final chiral volume - at atom 7 ignored\n",
      " 36%|███▌      | 858690/2409270 [42:52<1:01:50, 417.86it/s][21:01:58] Warning: ambiguous stereochemistry - zero final chiral volume - at atom 5 ignored\n",
      "[21:01:58] Warning: ambiguous stereochemistry - zero final chiral volume - at atom 6 ignored\n",
      " 36%|███▌      | 859347/2409270 [42:53<1:00:16, 428.56it/s][21:02:00] Warning: ambiguous stereochemistry - zero final chiral volume - at atom 5 ignored\n",
      " 36%|███▌      | 862040/2409270 [43:00<1:08:02, 378.98it/s][21:02:06] Warning: ambiguous stereochemistry - zero final chiral volume - at atom 6 ignored\n",
      " 36%|███▌      | 869233/2409270 [43:20<1:08:37, 374.04it/s][21:02:26] Warning: ambiguous stereochemistry - zero final chiral volume - at atom 278 ignored\n",
      " 39%|███▉      | 941609/2409270 [47:08<1:01:46, 395.94it/s][21:06:14] Warning: ambiguous stereochemistry - opposing bonds have opposite wedging - at atom 0 ignored.\n",
      "[21:06:14] Warning: ambiguous stereochemistry - opposing bonds have opposite wedging - at atom 0 ignored.\n",
      " 40%|███▉      | 957712/2409270 [47:55<1:28:31, 273.26it/s][21:07:01] Explicit valence for atom # 0 P, 7, is greater than permitted\n",
      "[21:07:01] ERROR: Could not sanitize molecule ending on line 71637038\n",
      "[21:07:01] ERROR: Explicit valence for atom # 0 P, 7, is greater than permitted\n",
      " 40%|███▉      | 957858/2409270 [47:55<1:27:33, 276.25it/s][21:07:01] Explicit valence for atom # 0 P, 7, is greater than permitted\n",
      "[21:07:01] ERROR: Could not sanitize molecule ending on line 71650517\n",
      "[21:07:01] ERROR: Explicit valence for atom # 0 P, 7, is greater than permitted\n",
      " 40%|███▉      | 959635/2409270 [48:00<1:06:40, 362.37it/s][21:07:07] Explicit valence for atom # 0 P, 7, is greater than permitted\n",
      "[21:07:07] ERROR: Could not sanitize molecule ending on line 71809996\n",
      "[21:07:07] ERROR: Explicit valence for atom # 0 P, 7, is greater than permitted\n",
      " 40%|████      | 969101/2409270 [48:30<1:08:35, 349.93it/s][21:07:36] Explicit valence for atom # 0 P, 7, is greater than permitted\n",
      "[21:07:36] ERROR: Could not sanitize molecule ending on line 72646321\n",
      "[21:07:36] ERROR: Explicit valence for atom # 0 P, 7, is greater than permitted\n",
      " 41%|████      | 979711/2409270 [49:03<1:07:25, 353.40it/s][21:08:10] Warning: ambiguous stereochemistry - zero final chiral volume - at atom 5 ignored\n",
      "[21:08:10] Warning: ambiguous stereochemistry - zero final chiral volume - at atom 6 ignored\n",
      " 41%|████      | 981621/2409270 [49:09<58:08, 409.19it/s]  [21:08:15] Warning: ambiguous stereochemistry - zero final chiral volume - at atom 6 ignored\n",
      " 41%|████▏     | 998041/2409270 [50:03<56:38, 415.31it/s]  [21:09:09] Warning: ambiguous stereochemistry - zero final chiral volume - at atom 10 ignored\n",
      "[21:09:09] Warning: ambiguous stereochemistry - zero final chiral volume - at atom 13 ignored\n",
      " 42%|████▏     | 1001944/2409270 [50:12<50:18, 466.31it/s] [21:09:18] Warning: ambiguous stereochemistry - zero final chiral volume - at atom 4 ignored\n",
      " 42%|████▏     | 1013196/2409270 [50:37<50:27, 461.12it/s]  [21:09:43] WARNING: not removing hydrogen atom without neighbors\n",
      "[21:09:43] WARNING: not removing hydrogen atom without neighbors\n",
      "[21:09:43] WARNING: not removing hydrogen atom without neighbors\n",
      "[21:09:43] WARNING: not removing hydrogen atom without neighbors\n",
      " 43%|████▎     | 1024562/2409270 [51:05<56:06, 411.38it/s]  [21:10:11] Warning: ambiguous stereochemistry - zero final chiral volume - at atom 6 ignored\n",
      " 43%|████▎     | 1026703/2409270 [51:12<59:50, 385.02it/s]  [21:10:18] Warning: ambiguous stereochemistry - zero final chiral volume - at atom 10 ignored\n",
      " 43%|████▎     | 1029837/2409270 [51:20<1:03:06, 364.30it/s][21:10:26] Warning: ambiguous stereochemistry - zero final chiral volume - at atom 22 ignored\n",
      " 43%|████▎     | 1032028/2409270 [51:25<53:29, 429.17it/s]  [21:10:31] Warning: ambiguous stereochemistry - zero final chiral volume - at atom 6 ignored\n",
      " 43%|████▎     | 1039303/2409270 [51:44<1:10:47, 322.52it/s][21:10:50] Warning: ambiguous stereochemistry - zero final chiral volume - at atom 14 ignored\n",
      " 43%|████▎     | 1040627/2409270 [51:47<51:24, 443.66it/s]  [21:10:53] Warning: ambiguous stereochemistry - zero final chiral volume - at atom 5 ignored\n",
      " 43%|████▎     | 1041306/2409270 [51:49<55:44, 409.00it/s]  [21:10:55] Warning: ambiguous stereochemistry - zero final chiral volume - at atom 5 ignored\n",
      " 43%|████▎     | 1042415/2409270 [51:51<51:40, 440.83it/s]  [21:10:57] Warning: ambiguous stereochemistry - zero final chiral volume - at atom 5 ignored\n",
      "[21:10:57] Warning: ambiguous stereochemistry - zero final chiral volume - at atom 6 ignored\n",
      " 44%|████▎     | 1052822/2409270 [52:19<50:06, 451.22it/s]  [21:11:25] Warning: ambiguous stereochemistry - zero final chiral volume - at atom 1 ignored\n",
      " 44%|████▍     | 1054423/2409270 [52:22<47:28, 475.68it/s][21:11:28] Warning: ambiguous stereochemistry - zero final chiral volume - at atom 5 ignored\n",
      "[21:11:28] Warning: ambiguous stereochemistry - zero final chiral volume - at atom 6 ignored\n",
      " 44%|████▍     | 1056197/2409270 [52:27<50:22, 447.70it/s]  [21:11:33] Warning: ambiguous stereochemistry - zero final chiral volume - at atom 7 ignored\n",
      "[21:11:33] Warning: ambiguous stereochemistry - zero final chiral volume - at atom 13 ignored\n",
      " 44%|████▍     | 1066562/2409270 [52:50<48:54, 457.49it/s]  [21:11:56] Warning: ambiguous stereochemistry - zero final chiral volume - at atom 6 ignored\n",
      " 45%|████▍     | 1073205/2409270 [53:05<45:23, 490.50it/s]  [21:12:11] Warning: ambiguous stereochemistry - zero final chiral volume - at atom 14 ignored\n",
      " 45%|████▍     | 1073589/2409270 [53:05<41:39, 534.30it/s][21:12:12] Warning: ambiguous stereochemistry - zero final chiral volume - at atom 9 ignored\n",
      " 45%|████▍     | 1074220/2409270 [53:07<44:24, 501.04it/s][21:12:13] Warning: ambiguous stereochemistry - zero final chiral volume - at atom 7 ignored\n",
      " 45%|████▍     | 1075802/2409270 [53:10<46:47, 474.90it/s][21:12:16] Warning: ambiguous stereochemistry - zero final chiral volume - at atom 14 ignored\n",
      "[21:12:16] Warning: ambiguous stereochemistry - zero final chiral volume - at atom 18 ignored\n",
      " 45%|████▍     | 1082922/2409270 [53:25<48:51, 452.41it/s]  [21:12:31] Warning: ambiguous stereochemistry - zero final chiral volume - at atom 7 ignored\n",
      " 45%|████▌     | 1089454/2409270 [53:40<45:52, 479.48it/s]  [21:12:46] Warning: ambiguous stereochemistry - zero final chiral volume - at atom 5 ignored\n",
      " 45%|████▌     | 1094754/2409270 [53:51<1:14:48, 292.89it/s][21:12:57] Warning: ambiguous stereochemistry - zero final chiral volume - at atom 6 ignored\n",
      " 46%|████▌     | 1103346/2409270 [54:12<42:56, 506.83it/s]  [21:13:19] Warning: ambiguous stereochemistry - zero final chiral volume - at atom 5 ignored\n",
      " 46%|████▌     | 1104575/2409270 [54:15<52:28, 414.33it/s][21:13:21] Warning: ambiguous stereochemistry - zero final chiral volume - at atom 10 ignored\n",
      " 46%|████▌     | 1104618/2409270 [54:15<1:00:48, 357.59it/s][21:13:21] Warning: ambiguous stereochemistry - zero final chiral volume - at atom 5 ignored\n",
      "[21:13:21] Warning: ambiguous stereochemistry - zero final chiral volume - at atom 6 ignored\n",
      " 46%|████▌     | 1107274/2409270 [54:23<1:01:08, 354.87it/s][21:13:29] Warning: ambiguous stereochemistry - zero final chiral volume - at atom 6 ignored\n",
      " 46%|████▌     | 1108736/2409270 [54:27<45:16, 478.80it/s]  [21:13:33] Warning: ambiguous stereochemistry - zero final chiral volume - at atom 5 ignored\n",
      " 46%|████▌     | 1112740/2409270 [54:36<1:02:44, 344.36it/s][21:13:42] Warning: ambiguous stereochemistry - zero final chiral volume - at atom 5 ignored\n",
      " 46%|████▋     | 1114387/2409270 [54:41<1:22:42, 260.91it/s][21:13:47] Warning: ambiguous stereochemistry - zero final chiral volume - at atom 14 ignored\n",
      " 46%|████▋     | 1118786/2409270 [54:51<52:31, 409.54it/s]  [21:13:57] Warning: ambiguous stereochemistry - zero final chiral volume - at atom 6 ignored\n",
      " 46%|████▋     | 1119613/2409270 [54:53<44:04, 487.69it/s]  [21:13:59] Warning: ambiguous stereochemistry - zero final chiral volume - at atom 7 ignored\n",
      " 47%|████▋     | 1122907/2409270 [55:00<42:39, 502.49it/s]  [21:14:06] Warning: ambiguous stereochemistry - zero final chiral volume - at atom 9 ignored\n",
      "[21:14:06] Warning: ambiguous stereochemistry - zero final chiral volume - at atom 15 ignored\n",
      " 47%|████▋     | 1129294/2409270 [55:14<43:44, 487.72it/s]  [21:14:20] Warning: ambiguous stereochemistry - zero final chiral volume - at atom 16 ignored\n",
      "[21:14:20] Warning: ambiguous stereochemistry - zero final chiral volume - at atom 22 ignored\n",
      " 47%|████▋     | 1139375/2409270 [55:38<46:29, 455.21it/s]  [21:14:44] Warning: ambiguous stereochemistry - zero final chiral volume - at atom 5 ignored\n",
      " 48%|████▊     | 1145601/2409270 [55:52<51:55, 405.60it/s]  [21:14:58] Warning: ambiguous stereochemistry - zero final chiral volume - at atom 8 ignored\n",
      " 48%|████▊     | 1148544/2409270 [55:59<51:07, 410.97it/s]  [21:15:05] Warning: ambiguous stereochemistry - zero final chiral volume - at atom 5 ignored\n",
      " 48%|████▊     | 1151773/2409270 [56:07<51:39, 405.72it/s]  [21:15:13] Warning: ambiguous stereochemistry - zero final chiral volume - at atom 14 ignored\n",
      " 48%|████▊     | 1153465/2409270 [56:10<58:38, 356.92it/s][21:15:16] Warning: ambiguous stereochemistry - zero final chiral volume - at atom 10 ignored\n",
      "[21:15:16] Warning: ambiguous stereochemistry - zero final chiral volume - at atom 12 ignored\n",
      " 48%|████▊     | 1164124/2409270 [56:35<1:11:15, 291.20it/s][21:15:41] Warning: ambiguous stereochemistry - zero final chiral volume - at atom 5 ignored\n",
      " 48%|████▊     | 1164321/2409270 [56:35<53:13, 389.84it/s]  [21:15:42] Warning: ambiguous stereochemistry - zero final chiral volume - at atom 5 ignored\n",
      "[21:15:42] Warning: ambiguous stereochemistry - zero final chiral volume - at atom 6 ignored\n",
      " 48%|████▊     | 1165897/2409270 [56:40<1:09:00, 300.27it/s][21:15:46] Warning: ambiguous stereochemistry - zero final chiral volume - at atom 15 ignored\n",
      " 49%|████▉     | 1176128/2409270 [57:05<40:48, 503.60it/s]  [21:16:11] Warning: ambiguous stereochemistry - zero final chiral volume - at atom 17 ignored\n",
      " 49%|████▉     | 1183340/2409270 [57:24<50:57, 401.01it/s]  [21:16:30] Warning: ambiguous stereochemistry - zero final chiral volume - at atom 6 ignored\n",
      " 49%|████▉     | 1189130/2409270 [57:38<54:04, 376.11it/s]  [21:16:44] Warning: ambiguous stereochemistry - zero final chiral volume - at atom 7 ignored\n",
      " 49%|████▉     | 1191485/2409270 [57:44<49:59, 406.05it/s]  [21:16:50] Warning: ambiguous stereochemistry - zero final chiral volume - at atom 5 ignored\n",
      " 49%|████▉     | 1192147/2409270 [57:46<44:21, 457.26it/s][21:16:52] Warning: ambiguous stereochemistry - zero final chiral volume - at atom 11 ignored\n",
      "[21:16:52] Warning: ambiguous stereochemistry - zero final chiral volume - at atom 16 ignored\n",
      " 50%|████▉     | 1193080/2409270 [57:48<46:22, 437.05it/s][21:16:54] Warning: ambiguous stereochemistry - zero final chiral volume - at atom 6 ignored\n",
      " 50%|████▉     | 1203451/2409270 [58:18<1:25:50, 234.11it/s][21:17:25] Warning: ambiguous stereochemistry - zero final chiral volume - at atom 11 ignored\n",
      " 50%|█████     | 1211826/2409270 [58:53<53:40, 371.83it/s]  [21:17:59] Explicit valence for atom # 0 P, 7, is greater than permitted\n",
      "[21:17:59] ERROR: Could not sanitize molecule ending on line 88499242\n",
      "[21:17:59] ERROR: Explicit valence for atom # 0 P, 7, is greater than permitted\n",
      " 50%|█████     | 1212608/2409270 [58:55<50:29, 395.00it/s]  [21:18:02] Explicit valence for atom # 0 P, 7, is greater than permitted\n",
      "[21:18:02] ERROR: Could not sanitize molecule ending on line 88564642\n",
      "[21:18:02] ERROR: Explicit valence for atom # 0 P, 7, is greater than permitted\n",
      " 51%|█████     | 1218358/2409270 [59:17<1:26:59, 228.16it/s][21:18:23] Explicit valence for atom # 0 P, 7, is greater than permitted\n",
      "[21:18:23] ERROR: Could not sanitize molecule ending on line 89026798\n",
      "[21:18:23] ERROR: Explicit valence for atom # 0 P, 7, is greater than permitted\n",
      " 56%|█████▌    | 1349098/2409270 [1:04:28<36:17, 486.81it/s]  [21:23:34] Warning: ambiguous stereochemistry - zero final chiral volume - at atom 25 ignored\n",
      " 64%|██████▍   | 1547199/2409270 [1:12:50<28:05, 511.31it/s]  [21:31:56] Warning: ambiguous stereochemistry - zero final chiral volume - at atom 48 ignored\n",
      " 66%|██████▌   | 1589657/2409270 [1:14:31<30:00, 455.11it/s]  [21:33:37] Warning: ambiguous stereochemistry - zero final chiral volume - at atom 44 ignored\n",
      " 68%|██████▊   | 1645941/2409270 [1:16:55<28:25, 447.57it/s]  [21:36:01] WARNING: not removing hydrogen atom without neighbors\n",
      "[21:36:01] WARNING: not removing hydrogen atom without neighbors\n",
      " 69%|██████▊   | 1652379/2409270 [1:17:12<29:17, 430.65it/s][21:36:19] The bonds on one end of an atropisomer are both UP or both DOWN - atoms are: 0 20\n",
      " 73%|███████▎  | 1768059/2409270 [1:22:31<45:57, 232.53it/s]  [21:41:37] Warning: ambiguous stereochemistry - zero final chiral volume - at atom 151 ignored\n",
      " 73%|███████▎  | 1768475/2409270 [1:22:33<36:03, 296.13it/s]  [21:41:39] Warning: ambiguous stereochemistry - zero final chiral volume - at atom 151 ignored\n",
      "[21:41:39] Warning: ambiguous stereochemistry - zero final chiral volume - at atom 151 ignored\n",
      "[21:41:39] Warning: ambiguous stereochemistry - zero final chiral volume - at atom 151 ignored\n",
      "[21:41:39] Warning: ambiguous stereochemistry - zero final chiral volume - at atom 152 ignored\n",
      " 73%|███████▎  | 1769136/2409270 [1:22:36<53:39, 198.81it/s]  [21:41:43] Warning: ambiguous stereochemistry - zero final chiral volume - at atom 60 ignored\n",
      "[21:41:43] Warning: ambiguous stereochemistry - zero final chiral volume - at atom 65 ignored\n",
      " 74%|███████▎  | 1771835/2409270 [1:22:48<39:11, 271.12it/s]  [21:41:54] Warning: ambiguous stereochemistry - overlapping neighbors  - at atom 9 ignored\n",
      " 74%|███████▎  | 1772129/2409270 [1:22:49<45:34, 232.99it/s][21:41:55] Warning: ambiguous stereochemistry - overlapping neighbors  - at atom 10 ignored\n",
      " 74%|███████▎  | 1772382/2409270 [1:22:50<46:29, 228.31it/s][21:41:56] Warning: ambiguous stereochemistry - overlapping neighbors  - at atom 13 ignored\n",
      " 74%|███████▎  | 1772661/2409270 [1:22:51<49:31, 214.24it/s][21:41:58] Warning: ambiguous stereochemistry - overlapping neighbors  - at atom 21 ignored\n",
      " 74%|███████▎  | 1772879/2409270 [1:22:52<40:46, 260.09it/s][21:41:58] Warning: ambiguous stereochemistry - zero final chiral volume - at atom 50 ignored\n",
      "[21:41:58] Warning: ambiguous stereochemistry - zero final chiral volume - at atom 52 ignored\n",
      " 74%|███████▎  | 1773095/2409270 [1:22:53<37:44, 280.92it/s][21:41:59] Warning: ambiguous stereochemistry - zero final chiral volume - at atom 48 ignored\n",
      " 74%|███████▎  | 1773203/2409270 [1:22:54<46:08, 229.74it/s][21:42:00] Warning: ambiguous stereochemistry - overlapping neighbors  - at atom 9 ignored\n",
      " 74%|███████▎  | 1773409/2409270 [1:22:54<35:56, 294.79it/s][21:42:01] Warning: ambiguous stereochemistry - overlapping neighbors  - at atom 15 ignored\n",
      "[21:42:01] Warning: ambiguous stereochemistry - overlapping neighbors  - at atom 16 ignored\n",
      "[21:42:01] Warning: ambiguous stereochemistry - zero final chiral volume - at atom 17 ignored\n",
      "[21:42:01] Warning: ambiguous stereochemistry - zero final chiral volume - at atom 23 ignored\n",
      "[21:42:01] Warning: ambiguous stereochemistry - zero final chiral volume - at atom 17 ignored\n",
      "[21:42:01] Warning: ambiguous stereochemistry - zero final chiral volume - at atom 23 ignored\n",
      " 74%|███████▎  | 1773490/2409270 [1:22:55<47:50, 221.49it/s][21:42:01] Warning: ambiguous stereochemistry - overlapping neighbors  - at atom 10 ignored\n",
      "[21:42:01] Warning: ambiguous stereochemistry - overlapping neighbors  - at atom 9 ignored\n",
      " 74%|███████▎  | 1773764/2409270 [1:22:56<47:55, 221.02it/s]  [21:42:02] Warning: ambiguous stereochemistry - overlapping neighbors  - at atom 9 ignored\n",
      " 74%|███████▎  | 1773787/2409270 [1:22:56<47:35, 222.53it/s][21:42:02] Warning: ambiguous stereochemistry - overlapping neighbors  - at atom 10 ignored\n",
      " 74%|███████▎  | 1774051/2409270 [1:22:57<39:06, 270.67it/s][21:42:04] Warning: ambiguous stereochemistry - overlapping neighbors  - at atom 10 ignored\n",
      "[21:42:04] Warning: ambiguous stereochemistry - overlapping neighbors  - at atom 9 ignored\n",
      "[21:42:04] Warning: ambiguous stereochemistry - overlapping neighbors  - at atom 10 ignored\n",
      " 74%|███████▎  | 1774080/2409270 [1:22:58<38:25, 275.46it/s][21:42:04] Warning: ambiguous stereochemistry - overlapping neighbors  - at atom 4 ignored\n",
      " 74%|███████▎  | 1774385/2409270 [1:22:59<49:18, 214.63it/s][21:42:05] Warning: ambiguous stereochemistry - overlapping neighbors  - at atom 13 ignored\n",
      "[21:42:05] Warning: ambiguous stereochemistry - overlapping neighbors  - at atom 9 ignored\n",
      " 74%|███████▎  | 1774546/2409270 [1:23:00<41:02, 257.77it/s][21:42:06] Warning: ambiguous stereochemistry - zero final chiral volume - at atom 15 ignored\n",
      " 74%|███████▎  | 1774573/2409270 [1:23:00<43:59, 240.50it/s][21:42:06] Warning: ambiguous stereochemistry - zero final chiral volume - at atom 54 ignored\n",
      " 74%|███████▎  | 1774807/2409270 [1:23:01<38:11, 276.93it/s][21:42:07] Warning: ambiguous stereochemistry - zero final chiral volume - at atom 46 ignored\n",
      "[21:42:07] Warning: ambiguous stereochemistry - zero final chiral volume - at atom 77 ignored\n",
      " 74%|███████▎  | 1774862/2409270 [1:23:01<42:31, 248.67it/s][21:42:07] Warning: ambiguous stereochemistry - zero final chiral volume - at atom 23 ignored\n",
      "[21:42:07] Warning: ambiguous stereochemistry - zero final chiral volume - at atom 24 ignored\n",
      "[21:42:07] Warning: ambiguous stereochemistry - zero final chiral volume - at atom 56 ignored\n",
      " 74%|███████▎  | 1774893/2409270 [1:23:01<40:22, 261.85it/s][21:42:07] Warning: ambiguous stereochemistry - overlapping neighbors  - at atom 13 ignored\n",
      "[21:42:07] Warning: ambiguous stereochemistry - overlapping neighbors  - at atom 12 ignored\n",
      " 74%|███████▎  | 1775149/2409270 [1:23:02<44:32, 237.25it/s][21:42:08] Warning: ambiguous stereochemistry - zero final chiral volume - at atom 6 ignored\n",
      "[21:42:08] Warning: ambiguous stereochemistry - zero final chiral volume - at atom 43 ignored\n",
      "[21:42:08] Warning: ambiguous stereochemistry - zero final chiral volume - at atom 56 ignored\n",
      "[21:42:08] Warning: ambiguous stereochemistry - zero final chiral volume - at atom 65 ignored\n",
      " 74%|███████▎  | 1775173/2409270 [1:23:02<47:23, 223.03it/s][21:42:08] Warning: ambiguous stereochemistry - overlapping neighbors  - at atom 10 ignored\n",
      " 74%|███████▎  | 1775386/2409270 [1:23:03<38:12, 276.51it/s][21:42:09] Warning: ambiguous stereochemistry - overlapping neighbors  - at atom 9 ignored\n",
      "[21:42:09] Warning: ambiguous stereochemistry - overlapping neighbors  - at atom 10 ignored\n",
      " 76%|███████▌  | 1828153/2409270 [1:25:33<27:22, 353.88it/s][21:44:39] Warning: ambiguous stereochemistry - zero final chiral volume - at atom 151 ignored\n",
      "[21:44:39] Warning: ambiguous stereochemistry - zero final chiral volume - at atom 151 ignored\n",
      " 76%|███████▌  | 1832364/2409270 [1:25:45<24:54, 385.96it/s][21:44:51] Both bonds on one end of an atropisomer are on the same side - atoms is : 0\n",
      "[21:44:51] Both bonds on one end of an atropisomer are on the same side - atoms is : 2\n",
      " 78%|███████▊  | 1868103/2409270 [1:27:27<22:14, 405.54it/s]  [21:46:33] Warning: ambiguous stereochemistry - opposing bonds have opposite wedging - at atom 0 ignored.\n",
      "[21:46:33] Warning: ambiguous stereochemistry - opposing bonds have opposite wedging - at atom 0 ignored.\n",
      " 78%|███████▊  | 1871334/2409270 [1:27:35<21:33, 415.84it/s][21:46:41] Warning: ambiguous stereochemistry - overlapping neighbors  - at atom 17 ignored\n",
      " 78%|███████▊  | 1872415/2409270 [1:27:38<21:33, 415.13it/s][21:46:44] Warning: ambiguous stereochemistry - zero final chiral volume - at atom 14 ignored\n",
      " 78%|███████▊  | 1874220/2409270 [1:27:42<22:42, 392.74it/s][21:46:49] Warning: ambiguous stereochemistry - zero final chiral volume - at atom 14 ignored\n",
      " 78%|███████▊  | 1877616/2409270 [1:27:53<27:06, 326.96it/s][21:46:59] WARNING: not removing hydrogen atom without neighbors\n",
      "[21:46:59] WARNING: not removing hydrogen atom without neighbors\n",
      " 79%|███████▉  | 1898866/2409270 [1:28:51<21:39, 392.82it/s][21:47:57] Warning: ambiguous stereochemistry - opposing bonds have opposite wedging - at atom 6 ignored.\n",
      "[21:47:57] Warning: ambiguous stereochemistry - opposing bonds have opposite wedging - at atom 6 ignored.\n",
      " 79%|███████▉  | 1900748/2409270 [1:28:56<25:03, 338.14it/s][21:48:02] Warning: ambiguous stereochemistry - opposing bonds have opposite wedging - at atom 11 ignored.\n",
      "[21:48:02] Warning: ambiguous stereochemistry - opposing bonds have opposite wedging - at atom 11 ignored.\n",
      " 79%|███████▉  | 1902201/2409270 [1:28:59<20:10, 418.90it/s][21:48:05] WARNING: not removing hydrogen atom without neighbors\n",
      "[21:48:05] WARNING: not removing hydrogen atom without neighbors\n",
      " 80%|███████▉  | 1923573/2409270 [1:29:52<19:50, 408.03it/s][21:48:58] WARNING: not removing hydrogen atom without neighbors\n",
      "[21:48:58] WARNING: not removing hydrogen atom without neighbors\n",
      " 82%|████████▏ | 1965058/2409270 [1:31:41<18:15, 405.61it/s][21:50:47] Warning: ambiguous stereochemistry - zero final chiral volume - at atom 273 ignored\n",
      " 82%|████████▏ | 1965572/2409270 [1:31:42<18:11, 406.41it/s][21:50:48] Warning: ambiguous stereochemistry - zero final chiral volume - at atom 273 ignored\n",
      " 82%|████████▏ | 1970334/2409270 [1:31:55<19:49, 369.06it/s][21:51:01] Warning: ambiguous stereochemistry - overlapping neighbors  - at atom 5 ignored\n",
      "[21:51:01] Warning: ambiguous stereochemistry - overlapping neighbors  - at atom 8 ignored\n",
      "[21:51:01] Warning: ambiguous stereochemistry - overlapping neighbors  - at atom 2 ignored\n",
      "[21:51:01] Warning: ambiguous stereochemistry - overlapping neighbors  - at atom 3 ignored\n",
      " 82%|████████▏ | 1970408/2409270 [1:31:55<20:53, 350.21it/s][21:51:01] Warning: ambiguous stereochemistry - overlapping neighbors  - at atom 5 ignored\n",
      "[21:51:01] Warning: ambiguous stereochemistry - overlapping neighbors  - at atom 8 ignored\n",
      "[21:51:01] Warning: ambiguous stereochemistry - overlapping neighbors  - at atom 2 ignored\n",
      "[21:51:01] Warning: ambiguous stereochemistry - overlapping neighbors  - at atom 3 ignored\n",
      " 82%|████████▏ | 1971563/2409270 [1:31:58<19:48, 368.32it/s][21:51:04] Warning: ambiguous stereochemistry - overlapping neighbors  - at atom 21 ignored\n",
      "[21:51:04] Warning: ambiguous stereochemistry - overlapping neighbors  - at atom 19 ignored\n",
      " 84%|████████▍ | 2032073/2409270 [1:34:22<21:08, 297.43it/s][21:53:29] Warning: ambiguous stereochemistry - zero final chiral volume - at atom 28 ignored\n",
      " 85%|████████▌ | 2058390/2409270 [1:35:33<15:57, 366.64it/s][21:54:39] Warning: ambiguous stereochemistry - overlapping neighbors  - at atom 37 ignored\n",
      " 86%|████████▌ | 2063211/2409270 [1:35:48<15:33, 370.80it/s][21:54:54] Warning: ambiguous stereochemistry - overlapping neighbors  - at atom 1 ignored\n",
      " 86%|████████▌ | 2069758/2409270 [1:36:07<16:15, 348.05it/s][21:55:13] Warning: ambiguous stereochemistry - overlapping neighbors  - at atom 15 ignored\n",
      "[21:55:13] Warning: ambiguous stereochemistry - overlapping neighbors  - at atom 15 ignored\n",
      " 86%|████████▌ | 2070194/2409270 [1:36:08<15:03, 375.21it/s][21:55:14] Warning: ambiguous stereochemistry - overlapping neighbors  - at atom 10 ignored\n",
      "[21:55:14] Warning: ambiguous stereochemistry - overlapping neighbors  - at atom 12 ignored\n",
      "[21:55:14] Warning: ambiguous stereochemistry - overlapping neighbors  - at atom 15 ignored\n",
      " 86%|████████▌ | 2071981/2409270 [1:36:13<13:45, 408.49it/s][21:55:19] Warning: ambiguous stereochemistry - overlapping neighbors  - at atom 15 ignored\n",
      "[21:55:19] Warning: ambiguous stereochemistry - overlapping neighbors  - at atom 12 ignored\n",
      "[21:55:19] Warning: ambiguous stereochemistry - overlapping neighbors  - at atom 15 ignored\n",
      " 86%|████████▌ | 2072508/2409270 [1:36:14<15:26, 363.67it/s][21:55:20] Warning: ambiguous stereochemistry - overlapping neighbors  - at atom 4 ignored\n",
      "[21:55:20] Warning: ambiguous stereochemistry - overlapping neighbors  - at atom 29 ignored\n",
      "[21:55:20] Warning: ambiguous stereochemistry - overlapping neighbors  - at atom 32 ignored\n",
      "[21:55:20] Warning: ambiguous stereochemistry - overlapping neighbors  - at atom 7 ignored\n",
      " 86%|████████▌ | 2073389/2409270 [1:36:16<14:09, 395.30it/s][21:55:23] Warning: ambiguous stereochemistry - overlapping neighbors  - at atom 12 ignored\n",
      "[21:55:23] Warning: ambiguous stereochemistry - overlapping neighbors  - at atom 15 ignored\n",
      "[21:55:23] Warning: ambiguous stereochemistry - overlapping neighbors  - at atom 12 ignored\n",
      "[21:55:23] Warning: ambiguous stereochemistry - overlapping neighbors  - at atom 15 ignored\n",
      " 86%|████████▌ | 2073830/2409270 [1:36:18<15:49, 353.16it/s][21:55:24] Warning: ambiguous stereochemistry - overlapping neighbors  - at atom 12 ignored\n",
      "[21:55:24] Warning: ambiguous stereochemistry - overlapping neighbors  - at atom 15 ignored\n",
      " 86%|████████▌ | 2076133/2409270 [1:36:24<13:42, 405.11it/s][21:55:30] Warning: ambiguous stereochemistry - overlapping neighbors  - at atom 4 ignored\n",
      "[21:55:30] Warning: ambiguous stereochemistry - overlapping neighbors  - at atom 29 ignored\n",
      "[21:55:30] Warning: ambiguous stereochemistry - overlapping neighbors  - at atom 32 ignored\n",
      "[21:55:30] Warning: ambiguous stereochemistry - overlapping neighbors  - at atom 7 ignored\n",
      " 87%|████████▋ | 2084157/2409270 [1:36:47<14:38, 370.00it/s][21:55:53] Warning: ambiguous stereochemistry - overlapping neighbors  - at atom 2 ignored\n",
      " 87%|████████▋ | 2084941/2409270 [1:36:49<14:00, 385.83it/s][21:55:55] Warning: ambiguous stereochemistry - overlapping neighbors  - at atom 2 ignored\n",
      "[21:55:55] Warning: ambiguous stereochemistry - overlapping neighbors  - at atom 2 ignored\n",
      "[21:55:55] Warning: ambiguous stereochemistry - overlapping neighbors  - at atom 2 ignored\n",
      "[21:55:55] Warning: ambiguous stereochemistry - overlapping neighbors  - at atom 2 ignored\n",
      "[21:55:55] Warning: ambiguous stereochemistry - overlapping neighbors  - at atom 2 ignored\n",
      "[21:55:55] Warning: ambiguous stereochemistry - overlapping neighbors  - at atom 2 ignored\n",
      " 87%|████████▋ | 2086950/2409270 [1:36:55<14:31, 369.94it/s][21:56:01] Warning: ambiguous stereochemistry - zero final chiral volume - at atom 42 ignored\n",
      "[21:56:01] Warning: ambiguous stereochemistry - zero final chiral volume - at atom 129 ignored\n",
      "[21:56:01] Warning: ambiguous stereochemistry - zero final chiral volume - at atom 123 ignored\n",
      "[21:56:01] Warning: ambiguous stereochemistry - zero final chiral volume - at atom 122 ignored\n",
      "[21:56:01] Warning: ambiguous stereochemistry - zero final chiral volume - at atom 141 ignored\n",
      "[21:56:01] Warning: ambiguous stereochemistry - zero final chiral volume - at atom 69 ignored\n",
      "[21:56:01] Warning: ambiguous stereochemistry - zero final chiral volume - at atom 46 ignored\n",
      "[21:56:01] Warning: ambiguous stereochemistry - zero final chiral volume - at atom 63 ignored\n",
      "[21:56:01] Warning: ambiguous stereochemistry - zero final chiral volume - at atom 98 ignored\n",
      "[21:56:01] Warning: ambiguous stereochemistry - zero final chiral volume - at atom 120 ignored\n",
      "[21:56:01] Warning: ambiguous stereochemistry - zero final chiral volume - at atom 72 ignored\n",
      "[21:56:01] Warning: ambiguous stereochemistry - zero final chiral volume - at atom 130 ignored\n",
      " 87%|████████▋ | 2088660/2409270 [1:36:59<15:09, 352.38it/s][21:56:06] Warning: ambiguous stereochemistry - overlapping neighbors  - at atom 2 ignored\n",
      " 90%|████████▉ | 2157442/2409270 [1:40:21<11:35, 362.24it/s][21:59:27] Warning: ambiguous stereochemistry - overlapping neighbors  - at atom 4 ignored\n",
      " 90%|████████▉ | 2160537/2409270 [1:40:30<10:45, 385.35it/s][21:59:36] Warning: ambiguous stereochemistry - overlapping neighbors  - at atom 12 ignored\n",
      "[21:59:36] Warning: ambiguous stereochemistry - overlapping neighbors  - at atom 32 ignored\n",
      "[21:59:36] Warning: ambiguous stereochemistry - overlapping neighbors  - at atom 20 ignored\n",
      "[21:59:36] Warning: ambiguous stereochemistry - overlapping neighbors  - at atom 17 ignored\n",
      " 90%|████████▉ | 2166705/2409270 [1:40:47<10:49, 373.72it/s][21:59:53] Warning: ambiguous stereochemistry - overlapping neighbors  - at atom 6 ignored\n",
      " 90%|████████▉ | 2166743/2409270 [1:40:47<11:17, 358.12it/s][21:59:53] Warning: ambiguous stereochemistry - overlapping neighbors  - at atom 6 ignored\n",
      "[21:59:53] Warning: ambiguous stereochemistry - overlapping neighbors  - at atom 6 ignored\n",
      "[21:59:53] Warning: ambiguous stereochemistry - overlapping neighbors  - at atom 6 ignored\n",
      " 90%|█████████ | 2168390/2409270 [1:40:52<11:41, 343.25it/s][21:59:58] Warning: ambiguous stereochemistry - overlapping neighbors  - at atom 6 ignored\n",
      "[21:59:58] Warning: ambiguous stereochemistry - overlapping neighbors  - at atom 6 ignored\n",
      " 90%|█████████ | 2169218/2409270 [1:40:54<12:03, 331.84it/s][22:00:00] Warning: ambiguous stereochemistry - overlapping neighbors  - at atom 6 ignored\n",
      " 90%|█████████ | 2171277/2409270 [1:41:01<14:15, 278.25it/s][22:00:07] Warning: ambiguous stereochemistry - overlapping neighbors  - at atom 16 ignored\n",
      " 90%|█████████ | 2176987/2409270 [1:41:23<11:43, 330.08it/s][22:00:29] Warning: ambiguous stereochemistry - overlapping neighbors  - at atom 1 ignored\n",
      " 90%|█████████ | 2177158/2409270 [1:41:24<16:08, 239.66it/s][22:00:30] Warning: ambiguous stereochemistry - overlapping neighbors  - at atom 3 ignored\n",
      " 90%|█████████ | 2177208/2409270 [1:41:24<17:37, 219.47it/s][22:00:30] Warning: ambiguous stereochemistry - overlapping neighbors  - at atom 14 ignored\n",
      " 90%|█████████ | 2177573/2409270 [1:41:25<14:06, 273.60it/s][22:00:32] Warning: ambiguous stereochemistry - overlapping neighbors  - at atom 14 ignored\n",
      "[22:00:32] Warning: ambiguous stereochemistry - overlapping neighbors  - at atom 14 ignored\n",
      " 90%|█████████ | 2177601/2409270 [1:41:26<14:31, 265.89it/s][22:00:32] Warning: ambiguous stereochemistry - overlapping neighbors  - at atom 3 ignored\n",
      "[22:00:32] Warning: ambiguous stereochemistry - overlapping neighbors  - at atom 3 ignored\n",
      "[22:00:32] Warning: ambiguous stereochemistry - overlapping neighbors  - at atom 3 ignored\n",
      " 90%|█████████ | 2177628/2409270 [1:41:26<14:30, 266.02it/s][22:00:32] Warning: ambiguous stereochemistry - overlapping neighbors  - at atom 14 ignored\n",
      "[22:00:32] Warning: ambiguous stereochemistry - overlapping neighbors  - at atom 13 ignored\n",
      " 90%|█████████ | 2178004/2409270 [1:41:27<12:20, 312.29it/s][22:00:33] Warning: ambiguous stereochemistry - overlapping neighbors  - at atom 14 ignored\n",
      " 90%|█████████ | 2178036/2409270 [1:41:27<12:17, 313.55it/s][22:00:33] Warning: ambiguous stereochemistry - overlapping neighbors  - at atom 14 ignored\n",
      "[22:00:33] Warning: ambiguous stereochemistry - overlapping neighbors  - at atom 3 ignored\n",
      "[22:00:33] Warning: ambiguous stereochemistry - overlapping neighbors  - at atom 3 ignored\n",
      "[22:00:33] Warning: ambiguous stereochemistry - overlapping neighbors  - at atom 3 ignored\n",
      " 90%|█████████ | 2178976/2409270 [1:41:30<17:07, 224.19it/s][22:00:37] Warning: ambiguous stereochemistry - overlapping neighbors  - at atom 3 ignored\n",
      "[22:00:37] Warning: ambiguous stereochemistry - overlapping neighbors  - at atom 3 ignored\n",
      " 90%|█████████ | 2179408/2409270 [1:41:32<14:36, 262.29it/s][22:00:38] Warning: ambiguous stereochemistry - overlapping neighbors  - at atom 3 ignored\n",
      "[22:00:38] Warning: ambiguous stereochemistry - overlapping neighbors  - at atom 3 ignored\n",
      " 91%|█████████ | 2181070/2409270 [1:41:38<13:03, 291.22it/s][22:00:44] Warning: ambiguous stereochemistry - overlapping neighbors  - at atom 14 ignored\n",
      " 91%|█████████ | 2181499/2409270 [1:41:40<12:06, 313.44it/s][22:00:46] Warning: ambiguous stereochemistry - overlapping neighbors  - at atom 14 ignored\n",
      "[22:00:46] Warning: ambiguous stereochemistry - overlapping neighbors  - at atom 14 ignored\n",
      " 91%|█████████ | 2181531/2409270 [1:41:40<12:41, 299.03it/s][22:00:46] Warning: ambiguous stereochemistry - overlapping neighbors  - at atom 3 ignored\n",
      "[22:00:46] Warning: ambiguous stereochemistry - overlapping neighbors  - at atom 3 ignored\n",
      "[22:00:46] Warning: ambiguous stereochemistry - overlapping neighbors  - at atom 3 ignored\n",
      "[22:00:46] Warning: ambiguous stereochemistry - overlapping neighbors  - at atom 3 ignored\n",
      " 91%|█████████ | 2181941/2409270 [1:41:41<12:43, 297.57it/s][22:00:48] Warning: ambiguous stereochemistry - overlapping neighbors  - at atom 14 ignored\n",
      "[22:00:48] Warning: ambiguous stereochemistry - overlapping neighbors  - at atom 14 ignored\n",
      "[22:00:48] Warning: ambiguous stereochemistry - overlapping neighbors  - at atom 42 ignored\n",
      " 91%|█████████ | 2182381/2409270 [1:41:43<11:01, 342.92it/s][22:00:49] Warning: ambiguous stereochemistry - overlapping neighbors  - at atom 14 ignored\n",
      " 91%|█████████ | 2185333/2409270 [1:41:54<12:25, 300.26it/s][22:01:00] Warning: ambiguous stereochemistry - overlapping neighbors  - at atom 6 ignored\n",
      "[22:01:00] Warning: ambiguous stereochemistry - overlapping neighbors  - at atom 14 ignored\n",
      "[22:01:00] Warning: ambiguous stereochemistry - overlapping neighbors  - at atom 8 ignored\n",
      "[22:01:00] Warning: ambiguous stereochemistry - overlapping neighbors  - at atom 0 ignored\n",
      " 91%|█████████ | 2191292/2409270 [1:42:17<15:06, 240.35it/s][22:01:23] Warning: ambiguous stereochemistry - overlapping neighbors  - at atom 12 ignored\n",
      "[22:01:23] Warning: ambiguous stereochemistry - overlapping neighbors  - at atom 3 ignored\n",
      " 91%|█████████ | 2197256/2409270 [1:42:39<12:44, 277.22it/s][22:01:45] Warning: ambiguous stereochemistry - overlapping neighbors  - at atom 7 ignored\n",
      "[22:01:45] Warning: ambiguous stereochemistry - overlapping neighbors  - at atom 6 ignored\n",
      " 95%|█████████▍| 2281224/2409270 [1:47:44<05:04, 419.90it/s][22:06:50] WARNING: not removing hydrogen atom without neighbors\n",
      "[22:06:50] WARNING: not removing hydrogen atom without neighbors\n",
      "[22:06:50] WARNING: not removing hydrogen atom without neighbors\n",
      "[22:06:50] WARNING: not removing hydrogen atom without neighbors\n",
      "[22:06:50] WARNING: not removing hydrogen atom without neighbors\n",
      "[22:06:50] WARNING: not removing hydrogen atom without neighbors\n",
      " 99%|█████████▉| 2395056/2409270 [1:52:40<00:34, 416.28it/s][22:11:46] Both bonds on one end of an atropisomer are on the same side - atoms is : 2\n",
      "100%|█████████▉| 2405959/2409270 [1:53:08<00:08, 388.21it/s][22:12:14] Warning: ambiguous stereochemistry - zero final chiral volume - at atom 123 ignored\n",
      "100%|█████████▉| 2408860/2409270 [1:53:15<00:01, 400.21it/s][22:12:21] Explicit valence for atom # 0 As, 7, is greater than permitted\n",
      "[22:12:21] ERROR: Could not sanitize molecule ending on line 176015245\n",
      "[22:12:21] ERROR: Explicit valence for atom # 0 As, 7, is greater than permitted\n",
      "100%|█████████▉| 2409023/2409270 [1:53:16<00:00, 386.78it/s][22:12:22] Warning: ambiguous stereochemistry - overlapping neighbors  - at atom 29 ignored\n",
      "100%|█████████▉| 2409204/2409270 [1:53:16<00:00, 415.99it/s][22:12:22] WARNING: not removing hydrogen atom without neighbors\n",
      "[22:12:22] WARNING: not removing hydrogen atom without neighbors\n",
      "[22:12:22] WARNING: not removing hydrogen atom without neighbors\n",
      "[22:12:22] WARNING: not removing hydrogen atom without neighbors\n",
      "[22:12:22] WARNING: not removing hydrogen atom without neighbors\n",
      "[22:12:22] WARNING: not removing hydrogen atom without neighbors\n",
      "[22:12:22] WARNING: not removing hydrogen atom without neighbors\n",
      "[22:12:22] WARNING: not removing hydrogen atom without neighbors\n",
      "100%|█████████▉| 2409250/2409270 [1:53:16<00:00, 427.49it/s][22:12:22] Explicit valence for atom # 22 P, 7, is greater than permitted\n",
      "[22:12:22] ERROR: Could not sanitize molecule ending on line 176046768\n",
      "[22:12:22] ERROR: Explicit valence for atom # 22 P, 7, is greater than permitted\n",
      "[22:12:22] Explicit valence for atom # 0 P, 7, is greater than permitted\n",
      "[22:12:22] ERROR: Could not sanitize molecule ending on line 176046958\n",
      "[22:12:22] ERROR: Explicit valence for atom # 0 P, 7, is greater than permitted\n",
      "100%|██████████| 2409270/2409270 [1:53:16<00:00, 354.46it/s]"
     ]
    },
    {
     "name": "stdout",
     "output_type": "stream",
     "text": [
      "{'Lipinski Rule of 5': 825522, 'Ghose Filter': 1354894, 'Veber Filter': 2061842, 'Rule of 3 Filter': 86815, 'REOS Filter': 1516854, 'Drug-like Filter': 726015, 'Passes All Filters': 10833}\n"
     ]
    },
    {
     "name": "stderr",
     "output_type": "stream",
     "text": [
      "\n"
     ]
    }
   ],
   "source": [
    "results = {\n",
    "    \"Lipinski Rule of 5\": 0,\n",
    "    \"Ghose Filter\": 0,\n",
    "    \"Veber Filter\": 0,\n",
    "    \"Rule of 3 Filter\": 0,\n",
    "    \"REOS Filter\": 0,\n",
    "    \"Drug-like Filter\": 0,\n",
    "    \"Passes All Filters\": 0,\n",
    "}\n",
    "\n",
    "from tqdm import tqdm\n",
    "\n",
    "print(\"Molecule Database Length: \" + str(len(suppl)))\n",
    "\n",
    "for molecule in tqdm(suppl):\n",
    "\n",
    "    if molecule:\n",
    "\n",
    "        lipinski = False\n",
    "        rule_of_3 = False\n",
    "        ghose_filter = False\n",
    "        veber_filter = False\n",
    "        reos_filter = False\n",
    "        drug_like_filter = False\n",
    "\n",
    "        molecular_weight = Descriptors.ExactMolWt(molecule)\n",
    "        logp = Descriptors.MolLogP(molecule)\n",
    "        h_bond_donor = Descriptors.NumHDonors(molecule)\n",
    "        h_bond_acceptors = Descriptors.NumHAcceptors(molecule)\n",
    "        rotatable_bonds = Descriptors.NumRotatableBonds(molecule)\n",
    "        number_of_atoms = Chem.rdchem.Mol.GetNumAtoms(molecule)\n",
    "        molar_refractivity = Chem.Crippen.MolMR(molecule)\n",
    "        topological_surface_area_mapping = Chem.QED.properties(molecule).PSA\n",
    "        formal_charge = Chem.rdmolops.GetFormalCharge(molecule)\n",
    "        heavy_atoms = Chem.rdchem.Mol.GetNumHeavyAtoms(molecule)\n",
    "        num_of_rings = Chem.rdMolDescriptors.CalcNumRings(molecule)\n",
    "\n",
    "        # Lipinski\n",
    "        if (\n",
    "            molecular_weight <= 500\n",
    "            and logp <= 5\n",
    "            and h_bond_donor <= 5\n",
    "            and h_bond_acceptors <= 5\n",
    "            and rotatable_bonds <= 5\n",
    "        ):\n",
    "            lipinski = True\n",
    "            results[\"Lipinski Rule of 5\"] += 1\n",
    "\n",
    "        # Ghose Filter\n",
    "        if (\n",
    "            molecular_weight >= 160\n",
    "            and molecular_weight <= 480\n",
    "            and logp >= 0.4\n",
    "            and logp <= 5.6\n",
    "            and number_of_atoms >= 20\n",
    "            and number_of_atoms <= 70\n",
    "            and molar_refractivity >= 40\n",
    "            and molar_refractivity <= 130\n",
    "        ):\n",
    "            ghose_filter = True\n",
    "            results[\"Ghose Filter\"] += 1\n",
    "\n",
    "        # Veber Filter\n",
    "        if rotatable_bonds <= 10 and topological_surface_area_mapping <= 140:\n",
    "            veber_filter = True\n",
    "            results[\"Veber Filter\"] += 1\n",
    "\n",
    "        # Rule of 3\n",
    "        if (\n",
    "            molecular_weight <= 300\n",
    "            and logp <= 3\n",
    "            and h_bond_donor <= 3\n",
    "            and h_bond_acceptors <= 3\n",
    "            and rotatable_bonds <= 3\n",
    "        ):\n",
    "            rule_of_3 = True\n",
    "            results[\"Rule of 3 Filter\"] += 1\n",
    "\n",
    "        # REOS Filter\n",
    "        if (\n",
    "            molecular_weight >= 200\n",
    "            and molecular_weight <= 500\n",
    "            and logp >= int(0 - 5)\n",
    "            and logp <= 5\n",
    "            and h_bond_donor >= 0\n",
    "            and h_bond_donor <= 5\n",
    "            and h_bond_acceptors >= 0\n",
    "            and h_bond_acceptors <= 10\n",
    "            and formal_charge >= int(0 - 2)\n",
    "            and formal_charge <= 2\n",
    "            and rotatable_bonds >= 0\n",
    "            and rotatable_bonds <= 8\n",
    "            and heavy_atoms >= 15\n",
    "            and heavy_atoms <= 50\n",
    "        ):\n",
    "            reos_filter = True\n",
    "            results[\"REOS Filter\"] += 1\n",
    "\n",
    "        # Drug Like Filter\n",
    "        if (\n",
    "            molecular_weight < 400\n",
    "            and num_of_rings > 0\n",
    "            and rotatable_bonds < 5\n",
    "            and h_bond_donor <= 5\n",
    "            and h_bond_acceptors <= 10\n",
    "            and logp < 5\n",
    "        ):\n",
    "            drug_like_filter = True\n",
    "            results[\"Drug-like Filter\"] += 1\n",
    "\n",
    "        if (\n",
    "            lipinski\n",
    "            and ghose_filter\n",
    "            and veber_filter\n",
    "            and rule_of_3\n",
    "            and reos_filter\n",
    "            and drug_like_filter\n",
    "        ):\n",
    "            results[\"Passes All Filters\"] += 1\n",
    "\n",
    "print(results)"
   ]
  }
 ],
 "metadata": {
  "kernelspec": {
   "display_name": "ipz",
   "language": "python",
   "name": "python3"
  },
  "language_info": {
   "codemirror_mode": {
    "name": "ipython",
    "version": 3
   },
   "file_extension": ".py",
   "mimetype": "text/x-python",
   "name": "python",
   "nbconvert_exporter": "python",
   "pygments_lexer": "ipython3",
   "version": "3.13.0"
  }
 },
 "nbformat": 4,
 "nbformat_minor": 2
}

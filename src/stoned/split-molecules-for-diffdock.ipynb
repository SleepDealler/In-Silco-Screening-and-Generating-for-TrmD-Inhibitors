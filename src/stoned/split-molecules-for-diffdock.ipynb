{
 "cells": [
  {
   "cell_type": "code",
   "execution_count": 1,
   "metadata": {},
   "outputs": [
    {
     "name": "stdout",
     "output_type": "stream",
     "text": [
      "['sim_search.py', 'mutated_mol_df_deduplicated_with_syba_fp_sim-27.12.2024_5k_valid_sdf_filter_smiles_simplified.csv', 'path_logP_QED.py', '.git', '__pycache__', 'GA_rediscover.py', 'mutated_mol_df_deduplicated_with_syba_fp_sim-27.12.2024_5k_valid_sdf_filter.csv', 'stoned_selfies_tut.ipynb', 'generalized_path.py', 'notebooks', 'mutated_mol_df_deduplicated_with_syba_fp_sim-27.12.2024_5k_valid_sdf_filter_smiles_simplified', 'realize_path.py', 'environment.yml', 'readme_docs', 'data', 'README.md']\n"
     ]
    }
   ],
   "source": [
    "import os\n",
    "\n",
    "if \"README.md\" not in os.listdir():\n",
    "    os.chdir(\"..\")\n",
    "\n",
    "print(os.listdir())"
   ]
  },
  {
   "cell_type": "markdown",
   "metadata": {},
   "source": [
    "---"
   ]
  },
  {
   "cell_type": "code",
   "execution_count": 2,
   "metadata": {},
   "outputs": [],
   "source": [
    "from pathlib import Path"
   ]
  },
  {
   "cell_type": "code",
   "execution_count": 3,
   "metadata": {},
   "outputs": [
    {
     "data": {
      "text/plain": [
       "(5000, 2)"
      ]
     },
     "execution_count": 3,
     "metadata": {},
     "output_type": "execute_result"
    }
   ],
   "source": [
    "import pandas as pd\n",
    "\n",
    "df = pd.read_csv(\n",
    "    \"mutated_mol_df_deduplicated_with_syba_fp_sim-27.12.2024_5k_valid_sdf_filter_smiles_simplified.csv\"\n",
    ")\n",
    "df.shape"
   ]
  },
  {
   "cell_type": "code",
   "execution_count": 4,
   "metadata": {},
   "outputs": [
    {
     "data": {
      "text/html": [
       "<div>\n",
       "<style scoped>\n",
       "    .dataframe tbody tr th:only-of-type {\n",
       "        vertical-align: middle;\n",
       "    }\n",
       "\n",
       "    .dataframe tbody tr th {\n",
       "        vertical-align: top;\n",
       "    }\n",
       "\n",
       "    .dataframe thead th {\n",
       "        text-align: right;\n",
       "    }\n",
       "</style>\n",
       "<table border=\"1\" class=\"dataframe\">\n",
       "  <thead>\n",
       "    <tr style=\"text-align: right;\">\n",
       "      <th></th>\n",
       "      <th>molecule_id</th>\n",
       "      <th>smiles</th>\n",
       "    </tr>\n",
       "  </thead>\n",
       "  <tbody>\n",
       "    <tr>\n",
       "      <th>0</th>\n",
       "      <td>CHEMBL1700843-3-18661-2725</td>\n",
       "      <td>[B-]CC(CC(=O)Cc1ccccc1OC)c1ccc2c(c1)OCO2</td>\n",
       "    </tr>\n",
       "    <tr>\n",
       "      <th>1</th>\n",
       "      <td>CHEMBL1700843-1-733-69</td>\n",
       "      <td>COc1ccccc1CC(=O)CC(C)c1ccc2c(c1)OCO2</td>\n",
       "    </tr>\n",
       "    <tr>\n",
       "      <th>2</th>\n",
       "      <td>CHEMBL1700843-3-25135-3887</td>\n",
       "      <td>O=C(C=Cc1ccccc1O)CCc1ccc2c(c1)OCO2</td>\n",
       "    </tr>\n",
       "    <tr>\n",
       "      <th>3</th>\n",
       "      <td>CHEMBL321192-4-260411-47931</td>\n",
       "      <td>[C+]c1[nH]c2ccccc2c1CC(=O)c1cccc(OC)c1</td>\n",
       "    </tr>\n",
       "    <tr>\n",
       "      <th>4</th>\n",
       "      <td>CHEMBL33987-3-47850-5354</td>\n",
       "      <td>O=C(O)Cc1cccc(OCc2ccccc2O[P-]=[S+])c1</td>\n",
       "    </tr>\n",
       "    <tr>\n",
       "      <th>...</th>\n",
       "      <td>...</td>\n",
       "      <td>...</td>\n",
       "    </tr>\n",
       "    <tr>\n",
       "      <th>4995</th>\n",
       "      <td>CHEMBL400365-4-102367-17375</td>\n",
       "      <td>C#SC(=[N+])OC=CC1=C=N[P-]2NC(=O)Cc3c([nH]c4ccc...</td>\n",
       "    </tr>\n",
       "    <tr>\n",
       "      <th>4996</th>\n",
       "      <td>CHEMBL35859-4-153803-26315</td>\n",
       "      <td>OC=CC(O)=[S-]NC1CN2CCCC2c2ccccc21</td>\n",
       "    </tr>\n",
       "    <tr>\n",
       "      <th>4997</th>\n",
       "      <td>CHEMBL4160715-4-375548-35580</td>\n",
       "      <td>O=CC1=C(NCC=CC=C=[P-]Cl)C(=O)c2c(O)ccc(O)c21</td>\n",
       "    </tr>\n",
       "    <tr>\n",
       "      <th>4998</th>\n",
       "      <td>CHEMBL12578-4-57878-15382</td>\n",
       "      <td>O=CCC1Nc2ccccc2N=Cc2[nH]c3ccccc3c21</td>\n",
       "    </tr>\n",
       "    <tr>\n",
       "      <th>4999</th>\n",
       "      <td>CHEMBL5281977-4-134747-7259</td>\n",
       "      <td>[B+]C1C(OP)=C(C(C)C)C(=O)c2ccc(CC)nc21</td>\n",
       "    </tr>\n",
       "  </tbody>\n",
       "</table>\n",
       "<p>5000 rows × 2 columns</p>\n",
       "</div>"
      ],
      "text/plain": [
       "                       molecule_id  \\\n",
       "0       CHEMBL1700843-3-18661-2725   \n",
       "1           CHEMBL1700843-1-733-69   \n",
       "2       CHEMBL1700843-3-25135-3887   \n",
       "3      CHEMBL321192-4-260411-47931   \n",
       "4         CHEMBL33987-3-47850-5354   \n",
       "...                            ...   \n",
       "4995   CHEMBL400365-4-102367-17375   \n",
       "4996    CHEMBL35859-4-153803-26315   \n",
       "4997  CHEMBL4160715-4-375548-35580   \n",
       "4998     CHEMBL12578-4-57878-15382   \n",
       "4999   CHEMBL5281977-4-134747-7259   \n",
       "\n",
       "                                                 smiles  \n",
       "0              [B-]CC(CC(=O)Cc1ccccc1OC)c1ccc2c(c1)OCO2  \n",
       "1                  COc1ccccc1CC(=O)CC(C)c1ccc2c(c1)OCO2  \n",
       "2                    O=C(C=Cc1ccccc1O)CCc1ccc2c(c1)OCO2  \n",
       "3                [C+]c1[nH]c2ccccc2c1CC(=O)c1cccc(OC)c1  \n",
       "4                 O=C(O)Cc1cccc(OCc2ccccc2O[P-]=[S+])c1  \n",
       "...                                                 ...  \n",
       "4995  C#SC(=[N+])OC=CC1=C=N[P-]2NC(=O)Cc3c([nH]c4ccc...  \n",
       "4996                  OC=CC(O)=[S-]NC1CN2CCCC2c2ccccc21  \n",
       "4997       O=CC1=C(NCC=CC=C=[P-]Cl)C(=O)c2c(O)ccc(O)c21  \n",
       "4998                O=CCC1Nc2ccccc2N=Cc2[nH]c3ccccc3c21  \n",
       "4999             [B+]C1C(OP)=C(C(C)C)C(=O)c2ccc(CC)nc21  \n",
       "\n",
       "[5000 rows x 2 columns]"
      ]
     },
     "execution_count": 4,
     "metadata": {},
     "output_type": "execute_result"
    }
   ],
   "source": [
    "df"
   ]
  },
  {
   "cell_type": "code",
   "execution_count": 7,
   "metadata": {},
   "outputs": [],
   "source": [
    "import numpy as np\n",
    "\n",
    "# Split the dataframe into 5 parts\n",
    "# df_split = np.array_split(df, 5)"
   ]
  },
  {
   "cell_type": "code",
   "execution_count": 6,
   "metadata": {},
   "outputs": [],
   "source": [
    "# # Save each split dataframe to a file\n",
    "# for i, split_df in enumerate(df_split):\n",
    "#     split_df.to_csv(\n",
    "#         f\"mutated_mol_df_deduplicated_with_syba_fp_sim-27.12.2024_5k_valid_sdf_filter_smiles_simplified_split_{i}.csv\",\n",
    "#         index=False,\n",
    "#     )"
   ]
  },
  {
   "cell_type": "code",
   "execution_count": 8,
   "metadata": {},
   "outputs": [
    {
     "data": {
      "text/html": [
       "<div>\n",
       "<style scoped>\n",
       "    .dataframe tbody tr th:only-of-type {\n",
       "        vertical-align: middle;\n",
       "    }\n",
       "\n",
       "    .dataframe tbody tr th {\n",
       "        vertical-align: top;\n",
       "    }\n",
       "\n",
       "    .dataframe thead th {\n",
       "        text-align: right;\n",
       "    }\n",
       "</style>\n",
       "<table border=\"1\" class=\"dataframe\">\n",
       "  <thead>\n",
       "    <tr style=\"text-align: right;\">\n",
       "      <th></th>\n",
       "      <th>molecule_id</th>\n",
       "      <th>smiles</th>\n",
       "    </tr>\n",
       "  </thead>\n",
       "  <tbody>\n",
       "    <tr>\n",
       "      <th>0</th>\n",
       "      <td>CHEMBL1700843-3-18661-2725</td>\n",
       "      <td>[B-]CC(CC(=O)Cc1ccccc1OC)c1ccc2c(c1)OCO2</td>\n",
       "    </tr>\n",
       "    <tr>\n",
       "      <th>1</th>\n",
       "      <td>CHEMBL1700843-1-733-69</td>\n",
       "      <td>COc1ccccc1CC(=O)CC(C)c1ccc2c(c1)OCO2</td>\n",
       "    </tr>\n",
       "    <tr>\n",
       "      <th>2</th>\n",
       "      <td>CHEMBL1700843-3-25135-3887</td>\n",
       "      <td>O=C(C=Cc1ccccc1O)CCc1ccc2c(c1)OCO2</td>\n",
       "    </tr>\n",
       "    <tr>\n",
       "      <th>3</th>\n",
       "      <td>CHEMBL321192-4-260411-47931</td>\n",
       "      <td>[C+]c1[nH]c2ccccc2c1CC(=O)c1cccc(OC)c1</td>\n",
       "    </tr>\n",
       "    <tr>\n",
       "      <th>4</th>\n",
       "      <td>CHEMBL33987-3-47850-5354</td>\n",
       "      <td>O=C(O)Cc1cccc(OCc2ccccc2O[P-]=[S+])c1</td>\n",
       "    </tr>\n",
       "    <tr>\n",
       "      <th>...</th>\n",
       "      <td>...</td>\n",
       "      <td>...</td>\n",
       "    </tr>\n",
       "    <tr>\n",
       "      <th>4995</th>\n",
       "      <td>CHEMBL400365-4-102367-17375</td>\n",
       "      <td>C#SC(=[N+])OC=CC1=C=N[P-]2NC(=O)Cc3c([nH]c4ccc...</td>\n",
       "    </tr>\n",
       "    <tr>\n",
       "      <th>4996</th>\n",
       "      <td>CHEMBL35859-4-153803-26315</td>\n",
       "      <td>OC=CC(O)=[S-]NC1CN2CCCC2c2ccccc21</td>\n",
       "    </tr>\n",
       "    <tr>\n",
       "      <th>4997</th>\n",
       "      <td>CHEMBL4160715-4-375548-35580</td>\n",
       "      <td>O=CC1=C(NCC=CC=C=[P-]Cl)C(=O)c2c(O)ccc(O)c21</td>\n",
       "    </tr>\n",
       "    <tr>\n",
       "      <th>4998</th>\n",
       "      <td>CHEMBL12578-4-57878-15382</td>\n",
       "      <td>O=CCC1Nc2ccccc2N=Cc2[nH]c3ccccc3c21</td>\n",
       "    </tr>\n",
       "    <tr>\n",
       "      <th>4999</th>\n",
       "      <td>CHEMBL5281977-4-134747-7259</td>\n",
       "      <td>[B+]C1C(OP)=C(C(C)C)C(=O)c2ccc(CC)nc21</td>\n",
       "    </tr>\n",
       "  </tbody>\n",
       "</table>\n",
       "<p>5000 rows × 2 columns</p>\n",
       "</div>"
      ],
      "text/plain": [
       "                       molecule_id  \\\n",
       "0       CHEMBL1700843-3-18661-2725   \n",
       "1           CHEMBL1700843-1-733-69   \n",
       "2       CHEMBL1700843-3-25135-3887   \n",
       "3      CHEMBL321192-4-260411-47931   \n",
       "4         CHEMBL33987-3-47850-5354   \n",
       "...                            ...   \n",
       "4995   CHEMBL400365-4-102367-17375   \n",
       "4996    CHEMBL35859-4-153803-26315   \n",
       "4997  CHEMBL4160715-4-375548-35580   \n",
       "4998     CHEMBL12578-4-57878-15382   \n",
       "4999   CHEMBL5281977-4-134747-7259   \n",
       "\n",
       "                                                 smiles  \n",
       "0              [B-]CC(CC(=O)Cc1ccccc1OC)c1ccc2c(c1)OCO2  \n",
       "1                  COc1ccccc1CC(=O)CC(C)c1ccc2c(c1)OCO2  \n",
       "2                    O=C(C=Cc1ccccc1O)CCc1ccc2c(c1)OCO2  \n",
       "3                [C+]c1[nH]c2ccccc2c1CC(=O)c1cccc(OC)c1  \n",
       "4                 O=C(O)Cc1cccc(OCc2ccccc2O[P-]=[S+])c1  \n",
       "...                                                 ...  \n",
       "4995  C#SC(=[N+])OC=CC1=C=N[P-]2NC(=O)Cc3c([nH]c4ccc...  \n",
       "4996                  OC=CC(O)=[S-]NC1CN2CCCC2c2ccccc21  \n",
       "4997       O=CC1=C(NCC=CC=C=[P-]Cl)C(=O)c2c(O)ccc(O)c21  \n",
       "4998                O=CCC1Nc2ccccc2N=Cc2[nH]c3ccccc3c21  \n",
       "4999             [B+]C1C(OP)=C(C(C)C)C(=O)c2ccc(CC)nc21  \n",
       "\n",
       "[5000 rows x 2 columns]"
      ]
     },
     "execution_count": 8,
     "metadata": {},
     "output_type": "execute_result"
    }
   ],
   "source": [
    "df"
   ]
  }
 ],
 "metadata": {
  "kernelspec": {
   "display_name": "stoned-selfies",
   "language": "python",
   "name": "python3"
  },
  "language_info": {
   "codemirror_mode": {
    "name": "ipython",
    "version": 3
   },
   "file_extension": ".py",
   "mimetype": "text/x-python",
   "name": "python",
   "nbconvert_exporter": "python",
   "pygments_lexer": "ipython3",
   "version": "3.9.21"
  }
 },
 "nbformat": 4,
 "nbformat_minor": 2
}

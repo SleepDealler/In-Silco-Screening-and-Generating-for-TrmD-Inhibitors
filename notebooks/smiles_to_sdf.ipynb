{
 "cells": [
  {
   "cell_type": "code",
   "execution_count": 4,
   "metadata": {},
   "outputs": [
    {
     "data": {
      "text/plain": [
       "['database',\n",
       " 'utils',\n",
       " 'screening',\n",
       " 'run_molecular_property_based_filtering.py',\n",
       " '__init__.py']"
      ]
     },
     "execution_count": 4,
     "metadata": {},
     "output_type": "execute_result"
    }
   ],
   "source": [
    "import os\n",
    "\n",
    "if \"run_molecular_property_based_filtering.py\" not in os.listdir():\n",
    "    os.chdir(\"../src\")\n",
    "\n",
    "os.listdir()"
   ]
  },
  {
   "cell_type": "code",
   "execution_count": 5,
   "metadata": {},
   "outputs": [],
   "source": [
    "from rdkit import Chem\n",
    "from rdkit.Chem import SDWriter\n",
    "from utils.paths import DATA_PATH\n",
    "\n",
    "\n",
    "def smiles_to_mol(smiles_list):\n",
    "    mol_list = [Chem.MolFromSmiles(smiles) for smiles in smiles_list]\n",
    "    return mol_list"
   ]
  },
  {
   "cell_type": "code",
   "execution_count": 6,
   "metadata": {},
   "outputs": [],
   "source": [
    "smiles_list = [\"CCO\", \"CCN\", \"CCC\"]\n",
    "mol_list = smiles_to_mol(smiles_list)"
   ]
  },
  {
   "cell_type": "code",
   "execution_count": 7,
   "metadata": {},
   "outputs": [],
   "source": [
    "# Create an SDWriter object\n",
    "writer = SDWriter(DATA_PATH / \"known_inhibitors.sdf\")\n",
    "\n",
    "# Write molecules to the SDF file\n",
    "for mol in mol_list:\n",
    "    writer.write(mol)\n",
    "\n",
    "# Close the writer\n",
    "writer.close()"
   ]
  },
  {
   "cell_type": "code",
   "execution_count": 8,
   "metadata": {},
   "outputs": [
    {
     "name": "stdout",
     "output_type": "stream",
     "text": [
      "Number of molecules read: 3\n"
     ]
    }
   ],
   "source": [
    "from rdkit.Chem import SDMolSupplier\n",
    "\n",
    "# Read molecules from the SDF file\n",
    "supplier = SDMolSupplier(str(DATA_PATH / \"known_inhibitors.sdf\"))\n",
    "molecules = [mol for mol in supplier if mol is not None]\n",
    "\n",
    "# Print the number of molecules read\n",
    "print(f\"Number of molecules read: {len(molecules)}\")"
   ]
  },
  {
   "cell_type": "code",
   "execution_count": 9,
   "metadata": {},
   "outputs": [
    {
     "name": "stdout",
     "output_type": "stream",
     "text": [
      "CCO\n"
     ]
    }
   ],
   "source": [
    "from rdkit.Chem import MolToSmiles\n",
    "\n",
    "smiles = MolToSmiles(molecules[0])\n",
    "print(smiles)"
   ]
  }
 ],
 "metadata": {
  "kernelspec": {
   "display_name": "ipz",
   "language": "python",
   "name": "python3"
  },
  "language_info": {
   "codemirror_mode": {
    "name": "ipython",
    "version": 3
   },
   "file_extension": ".py",
   "mimetype": "text/x-python",
   "name": "python",
   "nbconvert_exporter": "python",
   "pygments_lexer": "ipython3",
   "version": "3.13.0"
  }
 },
 "nbformat": 4,
 "nbformat_minor": 2
}

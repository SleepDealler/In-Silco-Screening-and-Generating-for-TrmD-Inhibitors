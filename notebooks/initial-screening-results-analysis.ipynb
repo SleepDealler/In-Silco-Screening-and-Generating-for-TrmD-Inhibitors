{
 "cells": [
  {
   "cell_type": "code",
   "execution_count": 1,
   "metadata": {},
   "outputs": [
    {
     "data": {
      "text/plain": [
       "['database',\n",
       " 'utils',\n",
       " 'screening',\n",
       " 'run_molecular_property_based_filtering.py',\n",
       " '__init__.py']"
      ]
     },
     "execution_count": 1,
     "metadata": {},
     "output_type": "execute_result"
    }
   ],
   "source": [
    "import os\n",
    "\n",
    "if \"run_molecular_property_based_filtering.py\" not in os.listdir():\n",
    "    os.chdir(\"../src\")\n",
    "\n",
    "os.listdir()"
   ]
  },
  {
   "cell_type": "markdown",
   "metadata": {},
   "source": [
    "---"
   ]
  },
  {
   "cell_type": "code",
   "execution_count": 2,
   "metadata": {},
   "outputs": [],
   "source": [
    "import pandas as pd"
   ]
  },
  {
   "cell_type": "code",
   "execution_count": 9,
   "metadata": {},
   "outputs": [],
   "source": [
    "df = pd.read_csv(\n",
    "    \"../data/chembl_34_initial_screening_results.csv\", sep=\",\", index_col=0\n",
    ")"
   ]
  },
  {
   "cell_type": "code",
   "execution_count": 10,
   "metadata": {},
   "outputs": [
    {
     "data": {
      "text/html": [
       "<div>\n",
       "<style scoped>\n",
       "    .dataframe tbody tr th:only-of-type {\n",
       "        vertical-align: middle;\n",
       "    }\n",
       "\n",
       "    .dataframe tbody tr th {\n",
       "        vertical-align: top;\n",
       "    }\n",
       "\n",
       "    .dataframe thead th {\n",
       "        text-align: right;\n",
       "    }\n",
       "</style>\n",
       "<table border=\"1\" class=\"dataframe\">\n",
       "  <thead>\n",
       "    <tr style=\"text-align: right;\">\n",
       "      <th></th>\n",
       "      <th>Lipinski_Rule_of_5</th>\n",
       "      <th>Ghose_Filter</th>\n",
       "      <th>Veber_Filter</th>\n",
       "      <th>Rule_of_3_Filter</th>\n",
       "      <th>REOS_Filter</th>\n",
       "      <th>Drug_like_Filter</th>\n",
       "      <th>QED_Filter</th>\n",
       "      <th>TPSA_Filter</th>\n",
       "      <th>SA_Score_Filter</th>\n",
       "      <th>NP_Score_Filter</th>\n",
       "      <th>Errors</th>\n",
       "    </tr>\n",
       "    <tr>\n",
       "      <th>ChemblID</th>\n",
       "      <th></th>\n",
       "      <th></th>\n",
       "      <th></th>\n",
       "      <th></th>\n",
       "      <th></th>\n",
       "      <th></th>\n",
       "      <th></th>\n",
       "      <th></th>\n",
       "      <th></th>\n",
       "      <th></th>\n",
       "      <th></th>\n",
       "    </tr>\n",
       "  </thead>\n",
       "  <tbody>\n",
       "    <tr>\n",
       "      <th>CHEMBL153534</th>\n",
       "      <td>True</td>\n",
       "      <td>False</td>\n",
       "      <td>True</td>\n",
       "      <td>False</td>\n",
       "      <td>True</td>\n",
       "      <td>True</td>\n",
       "      <td>0.608781</td>\n",
       "      <td>82.22</td>\n",
       "      <td>3.048474</td>\n",
       "      <td>-1.552303</td>\n",
       "      <td>[]</td>\n",
       "    </tr>\n",
       "    <tr>\n",
       "      <th>CHEMBL440060</th>\n",
       "      <td>False</td>\n",
       "      <td>False</td>\n",
       "      <td>False</td>\n",
       "      <td>False</td>\n",
       "      <td>False</td>\n",
       "      <td>False</td>\n",
       "      <td>0.016357</td>\n",
       "      <td>1271.93</td>\n",
       "      <td>9.084590</td>\n",
       "      <td>-0.037746</td>\n",
       "      <td>[]</td>\n",
       "    </tr>\n",
       "    <tr>\n",
       "      <th>CHEMBL440245</th>\n",
       "      <td>False</td>\n",
       "      <td>False</td>\n",
       "      <td>False</td>\n",
       "      <td>False</td>\n",
       "      <td>False</td>\n",
       "      <td>False</td>\n",
       "      <td>0.010798</td>\n",
       "      <td>1502.95</td>\n",
       "      <td>9.752879</td>\n",
       "      <td>0.219818</td>\n",
       "      <td>[]</td>\n",
       "    </tr>\n",
       "    <tr>\n",
       "      <th>CHEMBL440249</th>\n",
       "      <td>False</td>\n",
       "      <td>False</td>\n",
       "      <td>False</td>\n",
       "      <td>False</td>\n",
       "      <td>False</td>\n",
       "      <td>False</td>\n",
       "      <td>0.016726</td>\n",
       "      <td>979.36</td>\n",
       "      <td>9.146251</td>\n",
       "      <td>0.632360</td>\n",
       "      <td>[]</td>\n",
       "    </tr>\n",
       "    <tr>\n",
       "      <th>CHEMBL405398</th>\n",
       "      <td>False</td>\n",
       "      <td>True</td>\n",
       "      <td>True</td>\n",
       "      <td>False</td>\n",
       "      <td>True</td>\n",
       "      <td>False</td>\n",
       "      <td>0.623114</td>\n",
       "      <td>75.20</td>\n",
       "      <td>2.595185</td>\n",
       "      <td>-1.628093</td>\n",
       "      <td>[]</td>\n",
       "    </tr>\n",
       "  </tbody>\n",
       "</table>\n",
       "</div>"
      ],
      "text/plain": [
       "              Lipinski_Rule_of_5  Ghose_Filter  Veber_Filter  \\\n",
       "ChemblID                                                       \n",
       "CHEMBL153534                True         False          True   \n",
       "CHEMBL440060               False         False         False   \n",
       "CHEMBL440245               False         False         False   \n",
       "CHEMBL440249               False         False         False   \n",
       "CHEMBL405398               False          True          True   \n",
       "\n",
       "              Rule_of_3_Filter  REOS_Filter  Drug_like_Filter  QED_Filter  \\\n",
       "ChemblID                                                                    \n",
       "CHEMBL153534             False         True              True    0.608781   \n",
       "CHEMBL440060             False        False             False    0.016357   \n",
       "CHEMBL440245             False        False             False    0.010798   \n",
       "CHEMBL440249             False        False             False    0.016726   \n",
       "CHEMBL405398             False         True             False    0.623114   \n",
       "\n",
       "              TPSA_Filter  SA_Score_Filter  NP_Score_Filter Errors  \n",
       "ChemblID                                                            \n",
       "CHEMBL153534        82.22         3.048474        -1.552303     []  \n",
       "CHEMBL440060      1271.93         9.084590        -0.037746     []  \n",
       "CHEMBL440245      1502.95         9.752879         0.219818     []  \n",
       "CHEMBL440249       979.36         9.146251         0.632360     []  \n",
       "CHEMBL405398        75.20         2.595185        -1.628093     []  "
      ]
     },
     "metadata": {},
     "output_type": "display_data"
    },
    {
     "data": {
      "text/plain": [
       "(335452, 11)"
      ]
     },
     "execution_count": 10,
     "metadata": {},
     "output_type": "execute_result"
    }
   ],
   "source": [
    "display(df.head())\n",
    "df.shape"
   ]
  },
  {
   "cell_type": "markdown",
   "metadata": {},
   "source": [
    "(334969, 11)\n"
   ]
  },
  {
   "cell_type": "code",
   "execution_count": 12,
   "metadata": {},
   "outputs": [
    {
     "data": {
      "text/plain": [
       "True"
      ]
     },
     "execution_count": 12,
     "metadata": {},
     "output_type": "execute_result"
    }
   ],
   "source": [
    "\"CHEMBL130273\" in set(df.index)"
   ]
  }
 ],
 "metadata": {
  "kernelspec": {
   "display_name": "ipz",
   "language": "python",
   "name": "python3"
  },
  "language_info": {
   "codemirror_mode": {
    "name": "ipython",
    "version": 3
   },
   "file_extension": ".py",
   "mimetype": "text/x-python",
   "name": "python",
   "nbconvert_exporter": "python",
   "pygments_lexer": "ipython3",
   "version": "3.13.0"
  }
 },
 "nbformat": 4,
 "nbformat_minor": 2
}
